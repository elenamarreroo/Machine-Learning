{
  "cells": [
    {
      "cell_type": "markdown",
      "source": [
        "# **PRÁCTICA 1:  Machine Learning - Parte 1: Normalización y codificación**\n",
        "### Universitat de València, Escola Tecnica Superior d'Enginyeria\n",
        "### Elena Marrero Castellano | 3ª curso del Grado Ciencia de Datos"
      ],
      "metadata": {
        "id": "FK9WNXCYsUWT"
      }
    },
    {
      "cell_type": "markdown",
      "source": [
        "Detalles en: \n",
        "https://scikit-learn.org/stable/modules/preprocessing.html"
      ],
      "metadata": {
        "id": "_KGl_GBd3Dv0"
      }
    },
    {
      "cell_type": "markdown",
      "metadata": {
        "id": "HUB_dW6eWbPS"
      },
      "source": [
        "## 1. Normalizamos variables\n"
      ]
    },
    {
      "cell_type": "markdown",
      "source": [
        "Leemos las librerias necesarias"
      ],
      "metadata": {
        "id": "OG9lKUBR5M09"
      }
    },
    {
      "cell_type": "code",
      "execution_count": null,
      "metadata": {
        "id": "0ibuYiUpWP7q"
      },
      "outputs": [],
      "source": [
        "from sklearn import datasets\n",
        "import matplotlib.pyplot as plt\n",
        "%matplotlib inline\n",
        "import numpy as np"
      ]
    },
    {
      "cell_type": "markdown",
      "metadata": {
        "id": "MrbED4YdXv05"
      },
      "source": [
        "### Descargamos los datos de los datasets de sklearn y los visualizamos un poco"
      ]
    },
    {
      "cell_type": "code",
      "execution_count": null,
      "metadata": {
        "id": "ck--S8VzWQHp"
      },
      "outputs": [],
      "source": [
        "iris = datasets.load_iris()"
      ]
    },
    {
      "cell_type": "code",
      "execution_count": null,
      "metadata": {
        "colab": {
          "base_uri": "https://localhost:8080/",
          "height": 1000
        },
        "id": "Te2rHjyGWQPd",
        "outputId": "4767bc98-748e-4363-c3d2-9a1e78c6f574"
      },
      "outputs": [
        {
          "name": "stdout",
          "output_type": "stream",
          "text": [
            ".. _iris_dataset:\n",
            "\n",
            "Iris plants dataset\n",
            "--------------------\n",
            "\n",
            "**Data Set Characteristics:**\n",
            "\n",
            "    :Number of Instances: 150 (50 in each of three classes)\n",
            "    :Number of Attributes: 4 numeric, predictive attributes and the class\n",
            "    :Attribute Information:\n",
            "        - sepal length in cm\n",
            "        - sepal width in cm\n",
            "        - petal length in cm\n",
            "        - petal width in cm\n",
            "        - class:\n",
            "                - Iris-Setosa\n",
            "                - Iris-Versicolour\n",
            "                - Iris-Virginica\n",
            "                \n",
            "    :Summary Statistics:\n",
            "\n",
            "    ============== ==== ==== ======= ===== ====================\n",
            "                    Min  Max   Mean    SD   Class Correlation\n",
            "    ============== ==== ==== ======= ===== ====================\n",
            "    sepal length:   4.3  7.9   5.84   0.83    0.7826\n",
            "    sepal width:    2.0  4.4   3.05   0.43   -0.4194\n",
            "    petal length:   1.0  6.9   3.76   1.76    0.9490  (high!)\n",
            "    petal width:    0.1  2.5   1.20   0.76    0.9565  (high!)\n",
            "    ============== ==== ==== ======= ===== ====================\n",
            "\n",
            "    :Missing Attribute Values: None\n",
            "    :Class Distribution: 33.3% for each of 3 classes.\n",
            "    :Creator: R.A. Fisher\n",
            "    :Donor: Michael Marshall (MARSHALL%PLU@io.arc.nasa.gov)\n",
            "    :Date: July, 1988\n",
            "\n",
            "The famous Iris database, first used by Sir R.A. Fisher. The dataset is taken\n",
            "from Fisher's paper. Note that it's the same as in R, but not as in the UCI\n",
            "Machine Learning Repository, which has two wrong data points.\n",
            "\n",
            "This is perhaps the best known database to be found in the\n",
            "pattern recognition literature.  Fisher's paper is a classic in the field and\n",
            "is referenced frequently to this day.  (See Duda & Hart, for example.)  The\n",
            "data set contains 3 classes of 50 instances each, where each class refers to a\n",
            "type of iris plant.  One class is linearly separable from the other 2; the\n",
            "latter are NOT linearly separable from each other.\n",
            "\n",
            ".. topic:: References\n",
            "\n",
            "   - Fisher, R.A. \"The use of multiple measurements in taxonomic problems\"\n",
            "     Annual Eugenics, 7, Part II, 179-188 (1936); also in \"Contributions to\n",
            "     Mathematical Statistics\" (John Wiley, NY, 1950).\n",
            "   - Duda, R.O., & Hart, P.E. (1973) Pattern Classification and Scene Analysis.\n",
            "     (Q327.D83) John Wiley & Sons.  ISBN 0-471-22361-1.  See page 218.\n",
            "   - Dasarathy, B.V. (1980) \"Nosing Around the Neighborhood: A New System\n",
            "     Structure and Classification Rule for Recognition in Partially Exposed\n",
            "     Environments\".  IEEE Transactions on Pattern Analysis and Machine\n",
            "     Intelligence, Vol. PAMI-2, No. 1, 67-71.\n",
            "   - Gates, G.W. (1972) \"The Reduced Nearest Neighbor Rule\".  IEEE Transactions\n",
            "     on Information Theory, May 1972, 431-433.\n",
            "   - See also: 1988 MLC Proceedings, 54-64.  Cheeseman et al\"s AUTOCLASS II\n",
            "     conceptual clustering system finds 3 classes in the data.\n",
            "   - Many, many more ...\n"
          ]
        }
      ],
      "source": [
        "# Muestra la descripción\n",
        "print(iris.DESCR)"
      ]
    },
    {
      "cell_type": "code",
      "execution_count": null,
      "metadata": {
        "colab": {
          "base_uri": "https://localhost:8080/",
          "height": 1000
        },
        "id": "SbNt5zF4W6OE",
        "outputId": "4994cf83-c323-477f-f526-517edf9c328e"
      },
      "outputs": [
        {
          "data": {
            "text/plain": [
              "array([[5.1, 3.5, 1.4, 0.2],\n",
              "       [4.9, 3. , 1.4, 0.2],\n",
              "       [4.7, 3.2, 1.3, 0.2],\n",
              "       [4.6, 3.1, 1.5, 0.2],\n",
              "       [5. , 3.6, 1.4, 0.2],\n",
              "       [5.4, 3.9, 1.7, 0.4],\n",
              "       [4.6, 3.4, 1.4, 0.3],\n",
              "       [5. , 3.4, 1.5, 0.2],\n",
              "       [4.4, 2.9, 1.4, 0.2],\n",
              "       [4.9, 3.1, 1.5, 0.1],\n",
              "       [5.4, 3.7, 1.5, 0.2],\n",
              "       [4.8, 3.4, 1.6, 0.2],\n",
              "       [4.8, 3. , 1.4, 0.1],\n",
              "       [4.3, 3. , 1.1, 0.1],\n",
              "       [5.8, 4. , 1.2, 0.2],\n",
              "       [5.7, 4.4, 1.5, 0.4],\n",
              "       [5.4, 3.9, 1.3, 0.4],\n",
              "       [5.1, 3.5, 1.4, 0.3],\n",
              "       [5.7, 3.8, 1.7, 0.3],\n",
              "       [5.1, 3.8, 1.5, 0.3],\n",
              "       [5.4, 3.4, 1.7, 0.2],\n",
              "       [5.1, 3.7, 1.5, 0.4],\n",
              "       [4.6, 3.6, 1. , 0.2],\n",
              "       [5.1, 3.3, 1.7, 0.5],\n",
              "       [4.8, 3.4, 1.9, 0.2],\n",
              "       [5. , 3. , 1.6, 0.2],\n",
              "       [5. , 3.4, 1.6, 0.4],\n",
              "       [5.2, 3.5, 1.5, 0.2],\n",
              "       [5.2, 3.4, 1.4, 0.2],\n",
              "       [4.7, 3.2, 1.6, 0.2],\n",
              "       [4.8, 3.1, 1.6, 0.2],\n",
              "       [5.4, 3.4, 1.5, 0.4],\n",
              "       [5.2, 4.1, 1.5, 0.1],\n",
              "       [5.5, 4.2, 1.4, 0.2],\n",
              "       [4.9, 3.1, 1.5, 0.2],\n",
              "       [5. , 3.2, 1.2, 0.2],\n",
              "       [5.5, 3.5, 1.3, 0.2],\n",
              "       [4.9, 3.6, 1.4, 0.1],\n",
              "       [4.4, 3. , 1.3, 0.2],\n",
              "       [5.1, 3.4, 1.5, 0.2],\n",
              "       [5. , 3.5, 1.3, 0.3],\n",
              "       [4.5, 2.3, 1.3, 0.3],\n",
              "       [4.4, 3.2, 1.3, 0.2],\n",
              "       [5. , 3.5, 1.6, 0.6],\n",
              "       [5.1, 3.8, 1.9, 0.4],\n",
              "       [4.8, 3. , 1.4, 0.3],\n",
              "       [5.1, 3.8, 1.6, 0.2],\n",
              "       [4.6, 3.2, 1.4, 0.2],\n",
              "       [5.3, 3.7, 1.5, 0.2],\n",
              "       [5. , 3.3, 1.4, 0.2],\n",
              "       [7. , 3.2, 4.7, 1.4],\n",
              "       [6.4, 3.2, 4.5, 1.5],\n",
              "       [6.9, 3.1, 4.9, 1.5],\n",
              "       [5.5, 2.3, 4. , 1.3],\n",
              "       [6.5, 2.8, 4.6, 1.5],\n",
              "       [5.7, 2.8, 4.5, 1.3],\n",
              "       [6.3, 3.3, 4.7, 1.6],\n",
              "       [4.9, 2.4, 3.3, 1. ],\n",
              "       [6.6, 2.9, 4.6, 1.3],\n",
              "       [5.2, 2.7, 3.9, 1.4],\n",
              "       [5. , 2. , 3.5, 1. ],\n",
              "       [5.9, 3. , 4.2, 1.5],\n",
              "       [6. , 2.2, 4. , 1. ],\n",
              "       [6.1, 2.9, 4.7, 1.4],\n",
              "       [5.6, 2.9, 3.6, 1.3],\n",
              "       [6.7, 3.1, 4.4, 1.4],\n",
              "       [5.6, 3. , 4.5, 1.5],\n",
              "       [5.8, 2.7, 4.1, 1. ],\n",
              "       [6.2, 2.2, 4.5, 1.5],\n",
              "       [5.6, 2.5, 3.9, 1.1],\n",
              "       [5.9, 3.2, 4.8, 1.8],\n",
              "       [6.1, 2.8, 4. , 1.3],\n",
              "       [6.3, 2.5, 4.9, 1.5],\n",
              "       [6.1, 2.8, 4.7, 1.2],\n",
              "       [6.4, 2.9, 4.3, 1.3],\n",
              "       [6.6, 3. , 4.4, 1.4],\n",
              "       [6.8, 2.8, 4.8, 1.4],\n",
              "       [6.7, 3. , 5. , 1.7],\n",
              "       [6. , 2.9, 4.5, 1.5],\n",
              "       [5.7, 2.6, 3.5, 1. ],\n",
              "       [5.5, 2.4, 3.8, 1.1],\n",
              "       [5.5, 2.4, 3.7, 1. ],\n",
              "       [5.8, 2.7, 3.9, 1.2],\n",
              "       [6. , 2.7, 5.1, 1.6],\n",
              "       [5.4, 3. , 4.5, 1.5],\n",
              "       [6. , 3.4, 4.5, 1.6],\n",
              "       [6.7, 3.1, 4.7, 1.5],\n",
              "       [6.3, 2.3, 4.4, 1.3],\n",
              "       [5.6, 3. , 4.1, 1.3],\n",
              "       [5.5, 2.5, 4. , 1.3],\n",
              "       [5.5, 2.6, 4.4, 1.2],\n",
              "       [6.1, 3. , 4.6, 1.4],\n",
              "       [5.8, 2.6, 4. , 1.2],\n",
              "       [5. , 2.3, 3.3, 1. ],\n",
              "       [5.6, 2.7, 4.2, 1.3],\n",
              "       [5.7, 3. , 4.2, 1.2],\n",
              "       [5.7, 2.9, 4.2, 1.3],\n",
              "       [6.2, 2.9, 4.3, 1.3],\n",
              "       [5.1, 2.5, 3. , 1.1],\n",
              "       [5.7, 2.8, 4.1, 1.3],\n",
              "       [6.3, 3.3, 6. , 2.5],\n",
              "       [5.8, 2.7, 5.1, 1.9],\n",
              "       [7.1, 3. , 5.9, 2.1],\n",
              "       [6.3, 2.9, 5.6, 1.8],\n",
              "       [6.5, 3. , 5.8, 2.2],\n",
              "       [7.6, 3. , 6.6, 2.1],\n",
              "       [4.9, 2.5, 4.5, 1.7],\n",
              "       [7.3, 2.9, 6.3, 1.8],\n",
              "       [6.7, 2.5, 5.8, 1.8],\n",
              "       [7.2, 3.6, 6.1, 2.5],\n",
              "       [6.5, 3.2, 5.1, 2. ],\n",
              "       [6.4, 2.7, 5.3, 1.9],\n",
              "       [6.8, 3. , 5.5, 2.1],\n",
              "       [5.7, 2.5, 5. , 2. ],\n",
              "       [5.8, 2.8, 5.1, 2.4],\n",
              "       [6.4, 3.2, 5.3, 2.3],\n",
              "       [6.5, 3. , 5.5, 1.8],\n",
              "       [7.7, 3.8, 6.7, 2.2],\n",
              "       [7.7, 2.6, 6.9, 2.3],\n",
              "       [6. , 2.2, 5. , 1.5],\n",
              "       [6.9, 3.2, 5.7, 2.3],\n",
              "       [5.6, 2.8, 4.9, 2. ],\n",
              "       [7.7, 2.8, 6.7, 2. ],\n",
              "       [6.3, 2.7, 4.9, 1.8],\n",
              "       [6.7, 3.3, 5.7, 2.1],\n",
              "       [7.2, 3.2, 6. , 1.8],\n",
              "       [6.2, 2.8, 4.8, 1.8],\n",
              "       [6.1, 3. , 4.9, 1.8],\n",
              "       [6.4, 2.8, 5.6, 2.1],\n",
              "       [7.2, 3. , 5.8, 1.6],\n",
              "       [7.4, 2.8, 6.1, 1.9],\n",
              "       [7.9, 3.8, 6.4, 2. ],\n",
              "       [6.4, 2.8, 5.6, 2.2],\n",
              "       [6.3, 2.8, 5.1, 1.5],\n",
              "       [6.1, 2.6, 5.6, 1.4],\n",
              "       [7.7, 3. , 6.1, 2.3],\n",
              "       [6.3, 3.4, 5.6, 2.4],\n",
              "       [6.4, 3.1, 5.5, 1.8],\n",
              "       [6. , 3. , 4.8, 1.8],\n",
              "       [6.9, 3.1, 5.4, 2.1],\n",
              "       [6.7, 3.1, 5.6, 2.4],\n",
              "       [6.9, 3.1, 5.1, 2.3],\n",
              "       [5.8, 2.7, 5.1, 1.9],\n",
              "       [6.8, 3.2, 5.9, 2.3],\n",
              "       [6.7, 3.3, 5.7, 2.5],\n",
              "       [6.7, 3. , 5.2, 2.3],\n",
              "       [6.3, 2.5, 5. , 1.9],\n",
              "       [6.5, 3. , 5.2, 2. ],\n",
              "       [6.2, 3.4, 5.4, 2.3],\n",
              "       [5.9, 3. , 5.1, 1.8]])"
            ]
          },
          "execution_count": 7,
          "metadata": {},
          "output_type": "execute_result"
        }
      ],
      "source": [
        "# las entradas\n",
        "iris.data"
      ]
    },
    {
      "cell_type": "code",
      "execution_count": null,
      "metadata": {
        "colab": {
          "base_uri": "https://localhost:8080/",
          "height": 141
        },
        "id": "E-buEmlGW_4X",
        "outputId": "08c7ae3a-8941-4b4f-9d36-4e794bca8ecf"
      },
      "outputs": [
        {
          "data": {
            "text/plain": [
              "array([0, 0, 0, 0, 0, 0, 0, 0, 0, 0, 0, 0, 0, 0, 0, 0, 0, 0, 0, 0, 0, 0,\n",
              "       0, 0, 0, 0, 0, 0, 0, 0, 0, 0, 0, 0, 0, 0, 0, 0, 0, 0, 0, 0, 0, 0,\n",
              "       0, 0, 0, 0, 0, 0, 1, 1, 1, 1, 1, 1, 1, 1, 1, 1, 1, 1, 1, 1, 1, 1,\n",
              "       1, 1, 1, 1, 1, 1, 1, 1, 1, 1, 1, 1, 1, 1, 1, 1, 1, 1, 1, 1, 1, 1,\n",
              "       1, 1, 1, 1, 1, 1, 1, 1, 1, 1, 1, 1, 2, 2, 2, 2, 2, 2, 2, 2, 2, 2,\n",
              "       2, 2, 2, 2, 2, 2, 2, 2, 2, 2, 2, 2, 2, 2, 2, 2, 2, 2, 2, 2, 2, 2,\n",
              "       2, 2, 2, 2, 2, 2, 2, 2, 2, 2, 2, 2, 2, 2, 2, 2, 2, 2])"
            ]
          },
          "execution_count": 8,
          "metadata": {},
          "output_type": "execute_result"
        }
      ],
      "source": [
        "# las salidas\n",
        "iris.target"
      ]
    },
    {
      "cell_type": "code",
      "execution_count": null,
      "metadata": {
        "colab": {
          "base_uri": "https://localhost:8080/",
          "height": 35
        },
        "id": "nhcBbfFTXBoR",
        "outputId": "c3d7acca-d0b0-4eee-b7df-b081252281ae"
      },
      "outputs": [
        {
          "data": {
            "text/plain": [
              "(150, 4)"
            ]
          },
          "execution_count": 9,
          "metadata": {},
          "output_type": "execute_result"
        }
      ],
      "source": [
        "# tamaño de entrada\n",
        "iris.data.shape"
      ]
    },
    {
      "cell_type": "code",
      "execution_count": null,
      "metadata": {
        "colab": {
          "base_uri": "https://localhost:8080/",
          "height": 35
        },
        "id": "haQYxiu1XD2u",
        "outputId": "5916f8d2-92da-49cb-8300-ce882285be5e"
      },
      "outputs": [
        {
          "data": {
            "text/plain": [
              "(150,)"
            ]
          },
          "execution_count": 10,
          "metadata": {},
          "output_type": "execute_result"
        }
      ],
      "source": [
        "# tamaño de salida\n",
        "iris.target.shape"
      ]
    },
    {
      "cell_type": "code",
      "execution_count": null,
      "metadata": {
        "colab": {
          "base_uri": "https://localhost:8080/",
          "height": 265
        },
        "id": "KttXVMGTXHpW",
        "outputId": "373397ba-9086-4af7-8dff-5124240a04f2"
      },
      "outputs": [
        {
          "data": {
            "image/png": "[encoded data removed]",
            "text/plain": [
              "<Figure size 432x288 with 1 Axes>"
            ]
          },
          "metadata": {
            "needs_background": "light"
          },
          "output_type": "display_data"
        }
      ],
      "source": [
        "# un histograma de la primera dimension\n",
        "plt.hist(iris.data[:,0],21);"
      ]
    },
    {
      "cell_type": "code",
      "execution_count": null,
      "metadata": {
        "colab": {
          "base_uri": "https://localhost:8080/",
          "height": 265
        },
        "id": "o0XvzxdAXmmQ",
        "outputId": "e99e2b8e-f791-4c97-bca3-422e653d059f"
      },
      "outputs": [
        {
          "data": {
            "image/png": "[encoded data removed]",
            "text/plain": [
              "<Figure size 432x288 with 1 Axes>"
            ]
          },
          "metadata": {
            "needs_background": "light"
          },
          "output_type": "display_data"
        }
      ],
      "source": [
        "# un histograma de la segunda dimension\n",
        "plt.hist(iris.data[:,1],21);"
      ]
    },
    {
      "cell_type": "markdown",
      "metadata": {
        "id": "A5KbQy5DX45H"
      },
      "source": [
        "### Normalizamos la primera variable \"a mano\""
      ]
    },
    {
      "cell_type": "code",
      "execution_count": null,
      "metadata": {
        "id": "kViJSg_5X78-"
      },
      "outputs": [],
      "source": [
        "X = iris.data"
      ]
    },
    {
      "cell_type": "markdown",
      "metadata": {
        "id": "iKOHqKXpv13Y"
      },
      "source": [
        "#### Normalizamos sin quitar el mínimo"
      ]
    },
    {
      "cell_type": "code",
      "execution_count": null,
      "metadata": {
        "id": "UcoHt59XX_Rf"
      },
      "outputs": [],
      "source": [
        "X_n = X[:,0] / np.max(X[:,0])"
      ]
    },
    {
      "cell_type": "code",
      "execution_count": null,
      "metadata": {
        "colab": {
          "base_uri": "https://localhost:8080/",
          "height": 265
        },
        "id": "GTwqJ1r6YGTz",
        "outputId": "8b78c114-fc97-46f9-8ac2-da614c4aa885"
      },
      "outputs": [
        {
          "data": {
            "image/png": "[encoded data removed]",
            "text/plain": [
              "<Figure size 432x288 with 1 Axes>"
            ]
          },
          "metadata": {
            "needs_background": "light"
          },
          "output_type": "display_data"
        }
      ],
      "source": [
        "# Histograma sin normalizar\n",
        "plt.hist(X[:,0],21);"
      ]
    },
    {
      "cell_type": "code",
      "execution_count": null,
      "metadata": {
        "colab": {
          "base_uri": "https://localhost:8080/",
          "height": 265
        },
        "id": "XncSdCNMYWBY",
        "outputId": "ea61604d-96a1-4dfe-d24b-00fecb4058aa",
        "scrolled": true
      },
      "outputs": [
        {
          "data": {
            "image/png": "[encoded data removed]",
            "text/plain": [
              "<Figure size 432x288 with 1 Axes>"
            ]
          },
          "metadata": {
            "needs_background": "light"
          },
          "output_type": "display_data"
        }
      ],
      "source": [
        "# Histograma normalizando\n",
        "plt.hist(X_n,21);"
      ]
    },
    {
      "cell_type": "code",
      "execution_count": null,
      "metadata": {
        "colab": {
          "base_uri": "https://localhost:8080/",
          "height": 281
        },
        "id": "NGtu0iXYcuJc",
        "outputId": "af64b864-36ec-4cdd-9f01-d9c7b4122d38"
      },
      "outputs": [
        {
          "data": {
            "image/png": "[encoded data removed]",
            "text/plain": [
              "<Figure size 720x288 with 2 Axes>"
            ]
          },
          "metadata": {
            "needs_background": "light"
          },
          "output_type": "display_data"
        }
      ],
      "source": [
        "# Usando subplot ...\n",
        "plt.figure(figsize=(10,4))\n",
        "plt.subplot(1,2,1), plt.hist(X[:,0],21), plt.title('Sin normalizar')\n",
        "plt.subplot(1,2,2), plt.hist(X_n,21), plt.title('Normalizado');"
      ]
    },
    {
      "cell_type": "markdown",
      "metadata": {
        "id": "CMn6hoc41yGP"
      },
      "source": [
        "##### Ejercicio 1: \n",
        "Haz lo mismo pero para la dimensión 1, i.e. X[:,1]"
      ]
    },
    {
      "cell_type": "code",
      "execution_count": null,
      "metadata": {
        "id": "Etuuz9l41Exz"
      },
      "outputs": [],
      "source": [
        "X_n = X[:,1] / np.max(X[:,1])"
      ]
    },
    {
      "cell_type": "code",
      "execution_count": null,
      "metadata": {
        "id": "S3kwVx2_tJor",
        "outputId": "109108e2-0f6f-4c7b-e221-39ebc075706f"
      },
      "outputs": [
        {
          "data": {
            "image/png": "[encoded data removed]",
            "text/plain": [
              "<Figure size 720x288 with 2 Axes>"
            ]
          },
          "metadata": {
            "needs_background": "light"
          },
          "output_type": "display_data"
        }
      ],
      "source": [
        "plt.figure(figsize=(10,4))\n",
        "plt.subplot(1,2,1), plt.hist(X[:,1],21), plt.title('Sin normalizar')\n",
        "plt.subplot(1,2,2), plt.hist(X_n,21), plt.title('Normalizado');"
      ]
    },
    {
      "cell_type": "markdown",
      "metadata": {
        "id": "Kcj8A0P0v7dh"
      },
      "source": [
        "#### Normalizamos quitando el mínimo"
      ]
    },
    {
      "cell_type": "code",
      "execution_count": null,
      "metadata": {
        "id": "wDZVdXBNYe33"
      },
      "outputs": [],
      "source": [
        "X_n = (X[:,0] - np.min(X[:,0])) / (np.max(X[:,0]) - np.min(X[:,0]))"
      ]
    },
    {
      "cell_type": "code",
      "execution_count": null,
      "metadata": {
        "colab": {
          "base_uri": "https://localhost:8080/",
          "height": 281
        },
        "id": "34ez-nkfYe4X",
        "outputId": "f13ada55-260a-4631-bf4a-1f02b4821869"
      },
      "outputs": [
        {
          "data": {
            "image/png": "[encoded data removed]",
            "text/plain": [
              "<Figure size 720x288 with 2 Axes>"
            ]
          },
          "metadata": {
            "needs_background": "light"
          },
          "output_type": "display_data"
        }
      ],
      "source": [
        "plt.figure(figsize=(10,4))\n",
        "plt.subplot(1,2,1), plt.hist(X[:,0],21), plt.title('Sin normalizar')\n",
        "plt.subplot(1,2,2), plt.hist(X_n,21), plt.title('Normalizado');"
      ]
    },
    {
      "cell_type": "markdown",
      "metadata": {
        "id": "SPsf79I-1wuw"
      },
      "source": [
        "##### Ejercicio 2: \n",
        "Haz lo mismo pero para la dimensión 1, i.e. X[:,1]"
      ]
    },
    {
      "cell_type": "code",
      "execution_count": null,
      "metadata": {
        "id": "wLx2JGI9Ye4r"
      },
      "outputs": [],
      "source": [
        "X_n = (X[:,1] - np.min(X[:,1])) / (np.max(X[:,1]) - np.min(X[:,1]))"
      ]
    },
    {
      "cell_type": "code",
      "execution_count": null,
      "metadata": {
        "id": "LLETCKZmtJov",
        "outputId": "623b8d7f-a0c9-4295-8025-7484ed22f35a"
      },
      "outputs": [
        {
          "data": {
            "image/png": "[encoded data removed]",
            "text/plain": [
              "<Figure size 720x288 with 2 Axes>"
            ]
          },
          "metadata": {
            "needs_background": "light"
          },
          "output_type": "display_data"
        }
      ],
      "source": [
        "plt.figure(figsize=(10,4))\n",
        "plt.subplot(1,2,1), plt.hist(X[:,1],21), plt.title('Sin normalizar')\n",
        "plt.subplot(1,2,2), plt.hist(X_n,21), plt.title('Normalizado');"
      ]
    },
    {
      "cell_type": "markdown",
      "metadata": {
        "id": "HO-j8e-Tv_sx"
      },
      "source": [
        "#### Estandarizamos"
      ]
    },
    {
      "cell_type": "code",
      "execution_count": null,
      "metadata": {
        "id": "FyT0hhCaYxN-"
      },
      "outputs": [],
      "source": [
        "X_n = (X[:,0] - np.mean(X[:,0])) / (np.std(X[:,0]))"
      ]
    },
    {
      "cell_type": "code",
      "execution_count": null,
      "metadata": {
        "colab": {
          "base_uri": "https://localhost:8080/",
          "height": 281
        },
        "id": "W64zzzw-YxOp",
        "outputId": "e6999a1d-ae58-49bc-fce4-915d43c54e7c"
      },
      "outputs": [
        {
          "data": {
            "image/png": "[encoded data removed]",
            "text/plain": [
              "<Figure size 720x288 with 2 Axes>"
            ]
          },
          "metadata": {
            "needs_background": "light"
          },
          "output_type": "display_data"
        }
      ],
      "source": [
        "plt.figure(figsize=(10,4))\n",
        "plt.subplot(1,2,1), plt.hist(X[:,0],21), plt.title('Sin estandarizar')\n",
        "plt.subplot(1,2,2), plt.hist(X_n,21), plt.title('Estandarizando');"
      ]
    },
    {
      "cell_type": "markdown",
      "metadata": {
        "id": "S9Ew9Wwu1oZv"
      },
      "source": [
        "##### Ejercicio 3: \n",
        "\n",
        "Haz lo mismo pero para la dimensión 2, i.e. X[:,1]"
      ]
    },
    {
      "cell_type": "code",
      "execution_count": null,
      "metadata": {
        "id": "sbb-1skS1oZy"
      },
      "outputs": [],
      "source": [
        "X_n = (X[:,1] - np.mean(X[:,1])) / (np.std(X[:,1]))"
      ]
    },
    {
      "cell_type": "code",
      "execution_count": null,
      "metadata": {
        "id": "sr117TmOtJoz",
        "outputId": "632bf527-0daf-4b4e-a0be-db9035a504fe"
      },
      "outputs": [
        {
          "data": {
            "image/png": "[encoded data removed]",
            "text/plain": [
              "<Figure size 720x288 with 2 Axes>"
            ]
          },
          "metadata": {
            "needs_background": "light"
          },
          "output_type": "display_data"
        }
      ],
      "source": [
        "plt.figure(figsize=(10,4))\n",
        "plt.subplot(1,2,1), plt.hist(X[:,1],21), plt.title('Sin estandarizar')\n",
        "plt.subplot(1,2,2), plt.hist(X_n,21), plt.title('estandarizando');"
      ]
    },
    {
      "cell_type": "markdown",
      "metadata": {
        "id": "9P_Hy6aa2sEW"
      },
      "source": [
        "#### Ejercicio 4:\n",
        "\n",
        "Explica la diferencia entre los tres métodos"
      ]
    },
    {
      "cell_type": "code",
      "execution_count": null,
      "metadata": {
        "id": "TOHnj6RytJo0",
        "outputId": "3797ca56-37e1-4d3b-951d-0c12becb91ac"
      },
      "outputs": [
        {
          "data": {
            "image/png": "[encoded data removed]",
            "text/plain": [
              "<Figure size 1080x288 with 4 Axes>"
            ]
          },
          "metadata": {
            "needs_background": "light"
          },
          "output_type": "display_data"
        }
      ],
      "source": [
        "# Primero, para visualizar mejor las gráficas y poder comentarlas vamos a unir todas las \n",
        "# gráficas y así poder ver más claramente sus diferencias: \n",
        "f,axes = plt.subplots(1,4, figsize=(15,4) )\n",
        "ax1, ax2, ax3, ax4 = axes\n",
        "\n",
        "# Normalizamos:\n",
        "X_n = X[:,1] / np.max(X[:,1])\n",
        "ax1.hist(X[:,1],21),ax1.set_title('Sin normalizar');\n",
        "ax2.hist(X_n,21), ax2.set_title('Normalizado');\n",
        "\n",
        "# Una estandarización alternativa es escalar características para que se encuentren entre un valor mínimo y máximo \n",
        "# dado, a menudo entre cero y uno, o para que el valor absoluto máximo de cada característica se escale al tamaño \n",
        "# de la unidad. Esto se puede lograr usando MinMaxScalero MaxAbsScaler, respectivamente.\n",
        "\n",
        "# Normalizado quitando el mínimo:  #MinMax Scaler\n",
        "X_n = (X[:,1] - np.min(X[:,1])) / (np.max(X[:,1]) - np.min(X[:,1]))\n",
        "ax3.hist(X_n,21), ax3.set_title('Normalizado quitando el mínimo');\n",
        "\n",
        "# Estandarizamos #Standard Scaler\n",
        "X_n = (X[:,1] - np.mean(X[:,1])) / (np.std(X[:,1]))\n",
        "ax4.hist(X_n,21), ax4.set_title('Estandarizando');"
      ]
    },
    {
      "cell_type": "markdown",
      "metadata": {
        "id": "4l29KhN82stg"
      },
      "source": [
        "##### **Explicación:**\n",
        "\n",
        "---\n",
        "\n",
        "\n",
        "\n",
        "Una vez tenemos todas las gráficas colocadas ordenadamene podemos empezar a explicar la diferencia entre los tres métodos: \n",
        "\n",
        "**Normalizado:**\n",
        "\n",
        "En este sentido, al normalizar lo que hacemos es separar la información de origen en diferentes campos, y por ello hablamos también de términos como campificar o parsear la información.\n",
        "\n",
        "Asumiendo que no tenemos valores negativos, que en este caso es cierto porque estamos midiendo una anchura/ longitud, si que sería viable hacer una normalización tan sencilla. Como podemos ver en este caso, el valor máximo sería 1 y el valor mínimo 0, ya que estamos dividiendo entre el máximo. Con esta normalización la distribución de los datos  no cambia, el reparto sería el mismo. Lo que si que cambiaría sería: el valor máximo que en este caso pasa a ser 1 y el mínimo no llega a ser exáctamente 0, pero se aproxima. \n",
        "\n",
        "Esto solo nos va a valer si no tenemos números negativos y depende de como sea el valor del mínimo porque si es muy cercano a cero se nos agruparían todos los datos en un mismo rango. Esto lo podremos hacer mejor con el siguiente método.\n",
        "\n",
        "**Normalizado quitando el mínimo:**\n",
        "\n",
        "En este caso, cada entrada se normaliza entre unos límites definidos en este caso entre [0,1] (los fuerza estrictamente), mejorando el problema anterior. Haciendo que no se cambie dicha distribución de los datos ya que nos sirve de forma informativa.\n",
        "\n",
        "**Estandarizado:**\n",
        "\n",
        "En este caso estamos asumiento que tenemos una distribución Gaussiana y sabiendo que la media es cero y la desviación estándar es la unidad. Con esto conseguimos que al dividir por la desviación estándar consigamos el efecto de distribución Gaussiana. Como podemos ver en las gráficas no cambia la forma de los datos. Lo que si ha cambaido es que los datos estan centrados en 0 y tiene una desviación estandar de la unidad. \n",
        "\n",
        "Esto nos beneficia ya que muy poco proble de que los datos esten comprendidos entres dos desviaciones estándar lo que el este caso se cumple bastante bien. Esto dicho, nos asegura que todos los datos entren de una manera muy similar y que todas las variables tengan la misma relevancia por tener una distribución parecida."
      ]
    },
    {
      "cell_type": "markdown",
      "metadata": {
        "id": "AAYhoUZ5ZAAd"
      },
      "source": [
        "### Normalizamos usando Sklearn\n",
        "\n",
        "https://scikit-learn.org/stable/modules/preprocessing.html"
      ]
    },
    {
      "cell_type": "code",
      "execution_count": null,
      "metadata": {
        "id": "LTnjLZq7ZYUJ"
      },
      "outputs": [],
      "source": [
        "from sklearn import preprocessing"
      ]
    },
    {
      "cell_type": "markdown",
      "metadata": {
        "id": "hfrgWaTMwRtO"
      },
      "source": [
        "#### Estandarizamos directamente"
      ]
    },
    {
      "cell_type": "code",
      "execution_count": null,
      "metadata": {
        "id": "VUXgTNyzZC4P"
      },
      "outputs": [],
      "source": [
        "# Usamos la función de estandarización del sklearn\n",
        "X_n = preprocessing.scale(X[:,0])"
      ]
    },
    {
      "cell_type": "code",
      "execution_count": null,
      "metadata": {
        "colab": {
          "base_uri": "https://localhost:8080/",
          "height": 281
        },
        "id": "DV7tkQuBZgIL",
        "outputId": "182c4267-a091-4755-da2b-2f03639fb1b3"
      },
      "outputs": [
        {
          "data": {
            "image/png": "[encoded data removed]",
            "text/plain": [
              "<Figure size 720x288 with 2 Axes>"
            ]
          },
          "metadata": {
            "needs_background": "light"
          },
          "output_type": "display_data"
        }
      ],
      "source": [
        "plt.figure(figsize=(10,4))\n",
        "plt.subplot(1,2,1), plt.hist(X[:,0],21), plt.title('Sin estandarizar')\n",
        "plt.subplot(1,2,2), plt.hist(X_n,21), plt.title('Estandarizando');"
      ]
    },
    {
      "cell_type": "markdown",
      "metadata": {
        "id": "qv98pKpsw2hS"
      },
      "source": [
        "#### Usamos los modelos de normalizacion"
      ]
    },
    {
      "cell_type": "code",
      "execution_count": null,
      "metadata": {
        "colab": {
          "base_uri": "https://localhost:8080/",
          "height": 35
        },
        "id": "XksUEQH8actO",
        "outputId": "0d8729be-61cc-498a-e515-e0b295917f46"
      },
      "outputs": [
        {
          "data": {
            "text/plain": [
              "(150,)"
            ]
          },
          "execution_count": 39,
          "metadata": {},
          "output_type": "execute_result"
        }
      ],
      "source": [
        "X[:,0].shape"
      ]
    },
    {
      "cell_type": "code",
      "execution_count": null,
      "metadata": {
        "id": "1yqpK3wEZicG"
      },
      "outputs": [],
      "source": [
        "# creamos la funcion para estandarizar y la entrenamos\n",
        "scaler = preprocessing.StandardScaler().fit(X)\n",
        "\n",
        "# Normalmente es mejor hacerlo así:\n",
        "# scaler = preprocessing.StandardScaler()\n",
        "# scaler.fit(X) # te lo entrena con los datos que tu le pasas"
      ]
    },
    {
      "cell_type": "code",
      "execution_count": null,
      "metadata": {
        "colab": {
          "base_uri": "https://localhost:8080/",
          "height": 53
        },
        "id": "b4U645CiaLob",
        "outputId": "8187a4e7-aa0f-4151-c9ae-61a3cb127c0e"
      },
      "outputs": [
        {
          "name": "stdout",
          "output_type": "stream",
          "text": [
            "[5.84333333 3.05733333 3.758      1.19933333]\n",
            "[0.82530129 0.43441097 1.75940407 0.75969263]\n"
          ]
        }
      ],
      "source": [
        "# La función contiene informacion sobre los datos originales:\n",
        "# Le hemos pasado la x al completo y ha calculado la media de las 4 dimensiones\n",
        "# y la desviación estándar de las mismas.\n",
        "# En este caso ya se las conoce:\n",
        "\n",
        "\n",
        "# la media\n",
        "print(scaler.mean_)\n",
        "# el rango\n",
        "print(scaler.scale_)"
      ]
    },
    {
      "cell_type": "code",
      "execution_count": null,
      "metadata": {
        "id": "aI3dxAz7xC_b"
      },
      "outputs": [],
      "source": [
        "# si quiero estandarizar solo tengo que aplicar la función a los datos que quiera estandarizar\n",
        "X_n = scaler.transform(X)"
      ]
    },
    {
      "cell_type": "code",
      "execution_count": null,
      "metadata": {
        "colab": {
          "base_uri": "https://localhost:8080/",
          "height": 281
        },
        "id": "2PkW31Lxx24f",
        "outputId": "c44cf95a-d458-46ec-eccc-f6305e154b99"
      },
      "outputs": [
        {
          "data": {
            "image/png": "[encoded data removed]",
            "text/plain": [
              "<Figure size 720x288 with 2 Axes>"
            ]
          },
          "metadata": {
            "needs_background": "light"
          },
          "output_type": "display_data"
        }
      ],
      "source": [
        "plt.figure(figsize=(10,4))\n",
        "plt.subplot(1,2,1), plt.hist(X[:,0],21), plt.title('Sin estandarizar')\n",
        "plt.subplot(1,2,2), plt.hist(X_n[:,0],21), plt.title('Estandarizando');\n",
        "\n",
        "# Lo que pasa aquí es que lo ha hecho para todas las dimensiones, ya normalizadas."
      ]
    },
    {
      "cell_type": "code",
      "execution_count": null,
      "metadata": {
        "colab": {
          "base_uri": "https://localhost:8080/",
          "height": 281
        },
        "id": "l45Fui303gPs",
        "outputId": "7456d419-4092-4fdc-b76e-cfed76fc9fb3"
      },
      "outputs": [
        {
          "data": {
            "image/png": "[encoded data removed]",
            "text/plain": [
              "<Figure size 720x288 with 2 Axes>"
            ]
          },
          "metadata": {
            "needs_background": "light"
          },
          "output_type": "display_data"
        }
      ],
      "source": [
        "# Fíjate que ha estandarizado todas las dimensiones\n",
        "plt.figure(figsize=(10,4))\n",
        "plt.subplot(1,2,1), plt.hist(X,21), plt.title('Sin estandarizar')\n",
        "plt.subplot(1,2,2), plt.hist(X_n,21), plt.title('estandarizando');\n",
        "\n",
        "# Sin estandarizar, cada un tiene si rango de valores\n",
        "# Estandarizado, todos los datos tienen media 0 y desviación estándar 1, quedando así agrupados."
      ]
    },
    {
      "cell_type": "markdown",
      "metadata": {
        "id": "E-V7lzeCyEO9"
      },
      "source": [
        "#### Ejercicio 5: \n",
        "Hay otros modelos, pruébalos. ¿Qué es lo que hacen en los datos?\n",
        "- `preprocessing.MinMaxScaler()`\n",
        "- `preprocessing.MaxAbsScaler()`"
      ]
    },
    {
      "cell_type": "markdown",
      "metadata": {
        "id": "qgluuBT_tJo3"
      },
      "source": [
        "##### **Explicación de clase:**\n",
        "\n",
        "---\n",
        "\n",
        "\n",
        "\n",
        "Primero necesitamos saber que preprocessing nos ayuda con las funciones. Como vemos lo utilizamos con la función Scaler(), esta te hace la normalización directa, estandarizado, restando la media y dividiendo entre deviación estándar. Este método lo utilizamos cuando queremos hacer una normalización rápido.\n",
        "\n",
        "StandardScaler: (modelo de estandarización)\n",
        "\n",
        "Pero como veremos más abajo, vamos a tener que hacer más que una normalización rápida. Nuestro objetivo es entrenar un modelo para ver luego si realemnte funciona. Para ello, dividimos el conjunto inicial de datos en dos, utilizamos una parte (2/3 por ejemplo) para entrenar los datos (Xtrain e Ytrain) y otra parte (1/3 por ejemplo) para probarlos y comprobar que está hecha correctamente. Estos datos que vamos a utilizar para probar, no trabajaremos con ellos en ningún momento en el entrenamiento, lo que nos interesa es asegurarnos que estos datos de prueba no conozcan los datos reales para poderlos tener en cuenta a la hora de definir cómo de bueno es el modelo. \n",
        "\n",
        "Dicho esto, lo que  se debería hacer sería estimar la media utilizando solamente la media y la desviación estándar en train y ya luego estandarizamos el conjunto de entreanmiento.Pero esto tine una desventaja y es que la mayoría de las veces el conjunto de entrenamiento no va a tener la misma media que el conjunto de datos inicial. \n",
        "\n",
        "##### **Solución:** \n",
        "\n",
        "---\n",
        "\n",
        "\n",
        "\n",
        "Una estandarización alternativa es escalar características para que se encuentren entre un valor mínimo y máximo dado, a menudo entre cero y uno, o para que el valor absoluto máximo de cada característica se escale al tamaño de la unidad. Esto se puede lograr usando MinMaxScaler o MaxAbsScaler, respectivamente. Las diferencias serían que: \n",
        "\n",
        "**MinMaxScaler** = tiene un parámetro que nos dice el rango el cual queremos meter los datos (feature_range), por defecto sería entre 0 y 1. En mi ejemplo he cambiado los valores para que searn entre -1 y 1. Este método utiliza el escalado entre los rangos que yo los busco.\n",
        "\n",
        "**MaxAbsScaler** = lo que hace es normalizar cada variable con su máximo valor absoluto. Normalizado entre 0 y 1."
      ]
    },
    {
      "cell_type": "code",
      "execution_count": null,
      "metadata": {
        "id": "tZgPY5zXtJo4",
        "outputId": "4d1a2901-c152-436b-ebd4-10e7cd60bef1"
      },
      "outputs": [
        {
          "data": {
            "text/plain": [
              "(([array([ 0.,  0.,  0.,  0.,  0.,  0.,  0.,  0.,  0.,  0.,  0.,  9., 23.,\n",
              "          14., 27., 16., 26., 18.,  6.,  5.,  6.]),\n",
              "   array([ 0.,  0.,  0.,  0.,  0.,  0.,  0.,  0.,  0.,  1.,  7., 11., 14.,\n",
              "          24., 37., 19., 18.,  7.,  8.,  2.,  2.]),\n",
              "   array([ 0.,  0.,  4., 33., 11.,  2.,  0.,  0.,  1.,  2.,  4.,  9.,  9.,\n",
              "          15., 18., 12., 11.,  8.,  5.,  2.,  4.]),\n",
              "   array([34.,  7.,  7.,  1.,  1.,  0.,  0.,  7.,  3.,  5., 13.,  8., 12.,\n",
              "           6., 12.,  5.,  6.,  6.,  3.,  8.,  6.])],\n",
              "  array([0.04      , 0.08571429, 0.13142857, 0.17714286, 0.22285714,\n",
              "         0.26857143, 0.31428571, 0.36      , 0.40571429, 0.45142857,\n",
              "         0.49714286, 0.54285714, 0.58857143, 0.63428571, 0.68      ,\n",
              "         0.72571429, 0.77142857, 0.81714286, 0.86285714, 0.90857143,\n",
              "         0.95428571, 1.        ]),\n",
              "  <a list of 4 Lists of Patches objects>),\n",
              " Text(0.5, 1.0, 'Estandarizando MaxAbs'))"
            ]
          },
          "execution_count": 45,
          "metadata": {},
          "output_type": "execute_result"
        },
        {
          "data": {
            "image/png": "[encoded data removed]",
            "text/plain": [
              "<Figure size 1080x288 with 4 Axes>"
            ]
          },
          "metadata": {
            "needs_background": "light"
          },
          "output_type": "display_data"
        },
        {
          "data": {
            "image/png": "[encoded data removed]",
            "text/plain": [
              "<Figure size 1080x288 with 4 Axes>"
            ]
          },
          "metadata": {
            "needs_background": "light"
          },
          "output_type": "display_data"
        }
      ],
      "source": [
        "# Creamos la funcion para estandarizar y la entrenamos\n",
        "scaler_StandardScaler = preprocessing.StandardScaler().fit(X)\n",
        "scaler_MinMaxScaler    = preprocessing.MinMaxScaler(feature_range = (-1,1)).fit(X)\n",
        "scaler_MaxAbsScaler   = preprocessing.MaxAbsScaler().fit(X)\n",
        "\n",
        "# si quiero estandarizar solo tengo que aplicar la funcion a los datos que quiera estandarizar\n",
        "X_n_StandardScaler = scaler_StandardScaler.transform(X)\n",
        "X_n_MinMaxScaler    = scaler_MinMaxScaler.transform(X)\n",
        "X_n_MaxAbsScaler   = scaler_MaxAbsScaler.transform(X)\n",
        "\n",
        "# También podríamos hacer estos pasos de golpe com .fit_transform\n",
        "\n",
        "# Gráficas \n",
        "f,axes = plt.subplots(1,4, figsize=(15,4) )\n",
        "ax1, ax2, ax3, ax4 = axes\n",
        "\n",
        "ax1.hist(X[:,0],21), ax1.set_title('Sin estandarizar')\n",
        "ax2.hist(X_n_StandardScaler[:,0],21), ax2.set_title('Estandarizando estandar')\n",
        "ax3.hist(X_n_MinMaxScaler[:,0],21), ax3.set_title('Estandarizando MinMax')\n",
        "ax4.hist(X_n_MaxAbsScaler[:,0],21), ax4.set_title('Estandarizando MaxAbs')\n",
        "\n",
        "\n",
        "# Fíjate que ha estandarizado todas las dimensiones\n",
        "\n",
        "f,axes = plt.subplots(1,4, figsize=(15,4) )\n",
        "ax5, ax6, ax7, ax8 = axes\n",
        "\n",
        "ax5.hist(X,21), ax5.set_title('Sin estandarizar')\n",
        "ax6.hist(X_n_StandardScaler,21), ax6.set_title('Estandarizando estandar')\n",
        "ax7.hist(X_n_MinMaxScaler,21), ax7.set_title('Estandarizando MinMax')\n",
        "ax8.hist(X_n_MaxAbsScaler,21), ax8.set_title('Estandarizando MaxAbs')\n"
      ]
    },
    {
      "cell_type": "markdown",
      "metadata": {
        "id": "14grcLsczPMB"
      },
      "source": [
        "#### Ejercicio 6: \n",
        "El uso de modelos de normalización nos permite normalizar otros data sets utilizando exactamente la misma transformación. Esto es útil para normalizar los datos de entrenamiento, test y validación de la misma forma utilizando solo la información de los datos de entrenamiento.\n",
        "\n",
        "Particiona los datos originales en train/test, entrena el modelo de normalización utilizando los datos de train, y normaliza los datos de train y test utilizando este modelo. Ayuda: utiliza la función `train_test_split` de sklearn."
      ]
    },
    {
      "cell_type": "code",
      "execution_count": null,
      "metadata": {
        "id": "pBlYzqgMyV2e",
        "outputId": "a029341b-cccc-4db3-c655-c1257447ddbb"
      },
      "outputs": [
        {
          "name": "stdout",
          "output_type": "stream",
          "text": [
            "Media del test: 0.08075417025739125\n",
            "Media del test de cada variable: [1.0390229  1.11647276 1.00581007 1.0605417 ]\n",
            "Desviación estándar del test: 1.0600727515518233\n",
            "Desviación estándar del test de cada variable: [1.0390229  1.11647276 1.00581007 1.0605417 ]\n",
            "Media de los datos entrenados: 3.43275\n",
            "Media de los datos entrenados de cada variable: [0.8134685  0.41738591 1.75367158 0.74205862]\n",
            "Desviación estándar de los datos entrenados: 1.969048612274466\n",
            "Desviación estándar de los datos de cada variable: [0.8134685  0.41738591 1.75367158 0.74205862]\n"
          ]
        },
        {
          "data": {
            "image/png": "[encoded data removed]",
            "text/plain": [
              "<Figure size 1080x288 with 3 Axes>"
            ]
          },
          "metadata": {
            "needs_background": "light"
          },
          "output_type": "display_data"
        }
      ],
      "source": [
        "from sklearn.model_selection import train_test_split\n",
        "\n",
        "X = iris.data\n",
        "Y = iris.target\n",
        "\n",
        "# Aquí dividimos los datos como hemos comentado antes entre, los datos de entrenamiento y \n",
        "# los datos para comprobar.\n",
        "X_train, X_test, y_train, y_test = train_test_split(X, Y, test_size = 1/3, random_state=234)\n",
        "\n",
        "# Creamos la función para estandarizar y la entrenamos\n",
        "scaler = preprocessing.StandardScaler() # te crea un escalador \n",
        "# Como se haría en train scaler.fit_transform(X_train) \n",
        "\n",
        "scaler.fit(X_train) # te lo entrena con los datos que tu le pasas\n",
        "\n",
        "# si quiero estandarizar solo tengo que aplicar la función a los datos que quiera estandarizar\n",
        "X_n = scaler.transform(X_test) \n",
        "\n",
        "f,axes = plt.subplots(1,3, figsize=(15,4) )\n",
        "ax1, ax2, ax3 = axes\n",
        "\n",
        "ax1.hist(X_test[:,0],21), ax1.set_title('Test sin estandarizar')\n",
        "ax2.hist(X_n[:,0],21), ax2.set_title('Estandarizando total');\n",
        "ax3.hist(X_n,21), ax3.set_title('Test estandarizado');\n",
        "\n",
        "print('Media del test:',np.mean( X_n))\n",
        "print('Media del test de cada variable:', np.std( X_n,0))\n",
        "print('Desviación estándar del test:', np.std( X_n))\n",
        "print('Desviación estándar del test de cada variable:', np.std( X_n,0))\n",
        "\n",
        "\n",
        "print('Media de los datos entrenados:',np.mean(X_train))\n",
        "print('Media de los datos entrenados de cada variable:', np.std( X_train,0))\n",
        "print('Desviación estándar de los datos entrenados:',np.std( X_train))\n",
        "print('Desviación estándar de los datos entrenados de cada variable:', np.std( X_train,0))"
      ]
    },
    {
      "cell_type": "markdown",
      "metadata": {
        "id": "nxnB5z5VyjG0"
      },
      "source": [
        "## 2. Normalización avanzada\n"
      ]
    },
    {
      "cell_type": "markdown",
      "source": [
        "En realidad esta parte es una ecualización de los datos. Convierte su distribución marginal (1D) para que tenga la distribucióón que nosotros queramos (uniforme, Gausiana, ...). Piensa que la transformación es monotónica creciente por lo que conserva el orden de los datos."
      ],
      "metadata": {
        "id": "AdScFB9-5Ppk"
      }
    },
    {
      "cell_type": "code",
      "execution_count": null,
      "metadata": {
        "colab": {
          "base_uri": "https://localhost:8080/",
          "height": 90
        },
        "id": "Cb5pKOl3ymsB",
        "outputId": "aa4614f9-7251-41d8-b094-673f3ef9183d"
      },
      "outputs": [
        {
          "name": "stderr",
          "output_type": "stream",
          "text": [
            "/opt/anaconda3/lib/python3.7/site-packages/sklearn/preprocessing/_data.py:2357: UserWarning: n_quantiles (1000) is greater than the total number of samples (112). n_quantiles is set to n_samples.\n",
            "  % (self.n_quantiles, n_samples))\n"
          ]
        },
        {
          "data": {
            "text/plain": [
              "array([0.01351351, 0.25112613, 0.47972973, 0.60472973, 0.94144144])"
            ]
          },
          "execution_count": 60,
          "metadata": {},
          "output_type": "execute_result"
        }
      ],
      "source": [
        "from sklearn.datasets import load_iris\n",
        "from sklearn.model_selection import train_test_split\n",
        "\n",
        "X = iris.data\n",
        "y = iris.target\n",
        "\n",
        "# Entrenamiento y test\n",
        "X_train, X_test, y_train, y_test = train_test_split(X, y, random_state=0) \n",
        "\n",
        "# Te convierte a distribución Uniforme:\n",
        "quantile_transformer = preprocessing.QuantileTransformer(random_state=0) \n",
        "\n",
        "# Entrenamos y transformamos sobre X_train y X_test:\n",
        "X_train_trans = quantile_transformer.fit_transform(X_train)\n",
        "X_test_trans = quantile_transformer.transform(X_test)\n",
        "\n",
        "# Distribución que tenemos de los datos\n",
        "# Calculamos percentiles en diferentes puntos (p.ej. 50, mediana de los datos):\n",
        "np.percentile(X_train[:, 0], [0, 25, 50, 75, 100]) \n",
        "# Realizamos lo mismo con datos originales:\n",
        "np.percentile(X_test[:, 0], [0, 25, 50, 75, 100]) \n",
        "\n",
        "# Efectivamente los percentiles han cambiado \n",
        "np.percentile(X_train_trans[:, 0], [0, 25, 50, 75, 100]) \n",
        "# Significativamente, la mediana de los datos ha cambiado mucho a 0.5 y \n",
        "# tiene la típica distribución que tiene la distribución Uniforme.\n",
        "np.percentile(X_test_trans[:, 0], [0, 25, 50, 75, 100]) \n",
        "\n",
        "# Hasta ahora los histogramas no han cambiado, cambia el rango y la dist. de los datos también han cambiado, más plana\n",
        "# siguinedo una distrib uniforme y siendo todos con más o menso la misma probabilidad."
      ]
    },
    {
      "cell_type": "code",
      "execution_count": null,
      "metadata": {
        "colab": {
          "base_uri": "https://localhost:8080/",
          "height": 281
        },
        "id": "pi6U62-Z0Xf5",
        "outputId": "f0a3bbf0-f03c-453c-b6da-ec68c2f58503"
      },
      "outputs": [
        {
          "data": {
            "image/png": "[encoded data removed]",
            "text/plain": [
              "<Figure size 720x288 with 2 Axes>"
            ]
          },
          "metadata": {
            "needs_background": "light"
          },
          "output_type": "display_data"
        }
      ],
      "source": [
        "plt.figure(figsize=(10,4))\n",
        "plt.subplot(1,2,1), plt.hist(X_train[:,0],21), plt.title('Sin ecualizar')\n",
        "plt.subplot(1,2,2), plt.hist(X_train_trans[:,0],21), plt.title('ecualizando');"
      ]
    },
    {
      "cell_type": "markdown",
      "metadata": {
        "id": "em3YWQIY0m9P"
      },
      "source": [
        "#### Ejercicio 7: \n",
        "Transforma los datos de train para que tengan distribucion Gaussiana"
      ]
    },
    {
      "cell_type": "code",
      "execution_count": null,
      "metadata": {
        "id": "gOEjOkJUAATY",
        "outputId": "718925fd-fd05-4986-b573-3631ee0ddb74"
      },
      "outputs": [
        {
          "name": "stderr",
          "output_type": "stream",
          "text": [
            "/opt/anaconda3/lib/python3.7/site-packages/sklearn/preprocessing/_data.py:2357: UserWarning: n_quantiles (1000) is greater than the total number of samples (100). n_quantiles is set to n_samples.\n",
            "  % (self.n_quantiles, n_samples))\n"
          ]
        },
        {
          "data": {
            "image/png": "[encoded data removed]",
            "text/plain": [
              "<Figure size 720x288 with 4 Axes>"
            ]
          },
          "metadata": {
            "needs_background": "light"
          },
          "output_type": "display_data"
        }
      ],
      "source": [
        "# Tenemos tres formas de transformar los datos de train para que tengan distribución Gaussiana:\n",
        "quantile_transformer = preprocessing.QuantileTransformer(random_state=0, ) \n",
        "Power_transformer_b = preprocessing.PowerTransformer( method = 'box-cox', standardize = False)\n",
        "Power_transformer_y = preprocessing.PowerTransformer( method = 'yeo-johnson', standardize = False)\n",
        "\n",
        "\n",
        "# Entrenamos y transformamos sobre X_train y X_test:\n",
        "X_ttrain_q = quantile_transformer.fit_transform(X_train) \n",
        "X_ttest_q = quantile_transformer.transform(X_test)\n",
        "\n",
        "X_ttrain = Power_transformer_b.fit_transform(X_train) \n",
        "X_ttest = Power_transformer_b.transform(X_test)\n",
        "\n",
        "X_ttrain_y = Power_transformer_y.fit_transform(X_train) \n",
        "X_ttest_y = Power_transformer_y.transform(X_test)\n",
        "\n",
        "\n",
        "\n",
        "plt.figure(figsize=(10,4))\n",
        "plt.subplot(1,4,1), plt.hist(X_train[:,0],21), plt.title('Train')\n",
        "plt.subplot(1,4,2), plt.hist(X_ttrain[:,0],21), plt.title('Train Gaussiana box-cox');\n",
        "plt.subplot(1,4,3), plt.hist(X_ttrain_y[:,0],21), plt.title('Train yeo-johnson');\n",
        "plt.subplot(1,4,4), plt.hist(X_ttest_q[:,0],21), plt.title('Train Gaussiana quantile');"
      ]
    },
    {
      "cell_type": "markdown",
      "metadata": {
        "id": "D7-tmWZw0zBK"
      },
      "source": [
        "#### Ejercicio 8: \n",
        "Transforma los datos de test utilizando la transformacion de los datos de train"
      ]
    },
    {
      "cell_type": "code",
      "execution_count": null,
      "metadata": {
        "id": "apXexV75AA4p",
        "outputId": "8d244fdd-f991-4d86-e4f9-955219491cb6"
      },
      "outputs": [
        {
          "data": {
            "image/png": "[encoded data removed]",
            "text/plain": [
              "<Figure size 720x288 with 2 Axes>"
            ]
          },
          "metadata": {
            "needs_background": "light"
          },
          "output_type": "display_data"
        }
      ],
      "source": [
        "plt.figure(figsize=(10,4))\n",
        "plt.subplot(1,2,1), plt.hist(X_ttrain,21)\n",
        "plt.subplot(1,2,2), plt.hist(X_ttest,21)"
      ]
    },
    {
      "cell_type": "markdown",
      "metadata": {
        "id": "Y3aAjqLT0-Ox"
      },
      "source": [
        "## 3 Codificamos los datos"
      ]
    },
    {
      "cell_type": "markdown",
      "metadata": {
        "id": "0VLO3uev2mIv"
      },
      "source": [
        "### Codificación ordinaria\n",
        "Esta codificación hace corresponder a cada clase un número entero."
      ]
    },
    {
      "cell_type": "code",
      "execution_count": null,
      "metadata": {
        "colab": {
          "base_uri": "https://localhost:8080/",
          "height": 35
        },
        "id": "p6vJ_USt0i1a",
        "outputId": "1fe1d168-df7c-46c4-866a-b082d2e2d0cd"
      },
      "outputs": [
        {
          "data": {
            "text/plain": [
              "array([[2.]])"
            ]
          },
          "execution_count": 71,
          "metadata": {},
          "output_type": "execute_result"
        }
      ],
      "source": [
        "# Cuando queremos entrenar un modelo y las clases son de string() utilizamos la codificación ordinaria\n",
        "# Mira las diferentes etiquetas y a cada una les asigna un número.\n",
        "enc = preprocessing.OrdinalEncoder() \n",
        "\n",
        "X = [['Clase 0'],['Clase_1'],['Clase_2']]\n",
        "enc.fit(X)\n",
        "\n",
        "enc.transform([['Clase_2']]) # le ha asignado un 2 a la clase 2\n",
        "enc.transform(X) # le ha asignado un número a cada uno"
      ]
    },
    {
      "cell_type": "code",
      "execution_count": null,
      "metadata": {
        "colab": {
          "base_uri": "https://localhost:8080/",
          "height": 35
        },
        "id": "T3aESt-u3K28",
        "outputId": "01545458-8cd6-478d-ec1a-24e4a30a2ac0"
      },
      "outputs": [
        {
          "data": {
            "text/plain": [
              "array([[0., 1., 1.]])"
            ]
          },
          "execution_count": 30,
          "metadata": {
            "tags": []
          },
          "output_type": "execute_result"
        }
      ],
      "source": [
        "# Se puede hacer con un vector de varias dimensiones, cada dimensión tiene sus valores de \n",
        "# codificacion corrspondientes un ejemplo tridimensional sería:\n",
        "enc2 = preprocessing.OrdinalEncoder()\n",
        "\n",
        "X = [['male', 'from US', 'uses Safari'], \n",
        "     ['female', 'from Europe', 'uses Firefox']] # Ordena alfabéticamente y por columnas.\n",
        "enc2.fit(X)\n",
        "\n",
        "enc2.transform([['female', 'from US', 'uses Safari']])"
      ]
    },
    {
      "cell_type": "markdown",
      "metadata": {
        "id": "Mwfm5BPt3nwq"
      },
      "source": [
        "##### Ejercicio 9: \n",
        "¿Qué pasa si cada dimensión tiene un número distinto de clases? Haz un ejemplo."
      ]
    },
    {
      "cell_type": "code",
      "execution_count": null,
      "metadata": {
        "id": "xNdu7Cgk3KCe",
        "outputId": "32839d18-78e1-4046-d4f8-eaf126315eb4"
      },
      "outputs": [
        {
          "data": {
            "text/plain": [
              "array([[0., 2., 3.],\n",
              "       [1., 0., 1.],\n",
              "       [1., 1., 0.],\n",
              "       [0., 2., 2.]])"
            ]
          },
          "execution_count": 75,
          "metadata": {},
          "output_type": "execute_result"
        }
      ],
      "source": [
        "enc3 = preprocessing.OrdinalEncoder()\n",
        "\n",
        "X = [['male', 'from US', 'uses Safari'], \n",
        "     ['female', 'from Europe', 'uses Firefox'],\n",
        "    ['female', 'from Asia', 'uses Chrome'],\n",
        "    ['female', 'from Asia', 'uses Edge']]\n",
        "\n",
        "enc3.fit(X)\n",
        "\n",
        "enc3.transform([['female', 'from US', 'uses Safari'],\n",
        "                ['male', 'from Asia', 'uses Edge'],\n",
        "                ['male', 'from Europe', 'uses Chrome'],\n",
        "                ['female', 'from US', 'uses Firefox']])"
      ]
    },
    {
      "cell_type": "markdown",
      "metadata": {
        "id": "RhCgFt0S3w-u"
      },
      "source": [
        "### Codificación one-hot\n",
        "Esta codificación convierte la salida en un vector de probabilidades para cada clase."
      ]
    },
    {
      "cell_type": "code",
      "execution_count": null,
      "metadata": {
        "colab": {
          "base_uri": "https://localhost:8080/",
          "height": 35
        },
        "id": "XpLOy3hl3_L9",
        "outputId": "8c39ac2d-7f68-4ab5-bb4e-26622fd2a32a"
      },
      "outputs": [
        {
          "data": {
            "text/plain": [
              "array([[0., 0., 1.]])"
            ]
          },
          "execution_count": 31,
          "metadata": {
            "tags": []
          },
          "output_type": "execute_result"
        }
      ],
      "source": [
        "enc = preprocessing.OneHotEncoder()\n",
        "\n",
        "X = [['Clase 0'], ['Clase_1'], ['Clase_2']]\n",
        "enc.fit(X)\n",
        "\n",
        "enc.transform([['Clase_2']]).toarray()"
      ]
    },
    {
      "cell_type": "markdown",
      "metadata": {
        "id": "o7Do8DEb4NTZ"
      },
      "source": [
        "#### Ejercicio 9: \n",
        "\n",
        "¿Qué pasa si tenemos varias dimensiones?"
      ]
    },
    {
      "cell_type": "code",
      "execution_count": null,
      "metadata": {
        "id": "nHYbTbXF41RM",
        "outputId": "5667ecae-6bfb-4813-b563-56af7f6c0a59"
      },
      "outputs": [
        {
          "data": {
            "text/plain": [
              "array([[0., 0., 1., 0., 1., 0.],\n",
              "       [0., 1., 0., 0., 0., 1.]])"
            ]
          },
          "execution_count": 57,
          "metadata": {},
          "output_type": "execute_result"
        }
      ],
      "source": [
        "enc = preprocessing.OneHotEncoder()\n",
        "\n",
        "X = [['Clase 0', 'Grupo A'], \n",
        "     ['Clase_1','Grupo B'], \n",
        "     ['Clase_2','Grupo A'], \n",
        "     ['Clase_3','Grupo B']]\n",
        "\n",
        "enc.fit(X)\n",
        "\n",
        "enc.transform([['Clase_2', 'Grupo A'],\n",
        "               ['Clase_1', 'Grupo B']]).toarray()\n",
        "\n",
        "# Al añadir otra dimensión, tenemos dos dimensiones.\n",
        "# Las 4 variables iniciales serían las clases\n",
        "# Las 2 últimas variables serían los grupos.\n",
        "# PROBLEMA: muchas variables con muchas clases, tendríamos una dimensión muy grande"
      ]
    },
    {
      "cell_type": "markdown",
      "metadata": {
        "id": "rvz0edUO4zqh"
      },
      "source": [
        "#### Se pueden especificar las categorias que existen, e incluso decir que hacer con las categorias que no están definidas"
      ]
    },
    {
      "cell_type": "code",
      "execution_count": null,
      "metadata": {
        "colab": {
          "base_uri": "https://localhost:8080/",
          "height": 35
        },
        "id": "me4vAUSP4C4x",
        "outputId": "4720719f-06db-48f8-e5e2-ba55114ca055"
      },
      "outputs": [
        {
          "data": {
            "text/plain": [
              "array([[0., 0., 0.]])"
            ]
          },
          "execution_count": 78,
          "metadata": {},
          "output_type": "execute_result"
        }
      ],
      "source": [
        "enc = preprocessing.OneHotEncoder(handle_unknown='ignore') \n",
        "# handle_unknown, lo que hace es que cuando hay algo que no conoce lo ignora. Esto es importante\n",
        "# si sospechamos que vamos a añadir datos con cosas que no hemos tenido en cuenta. Por otro \n",
        "# lado esto también es una desventaja porque al ignorar datos sin decir nada, es peligroso.\n",
        "X = [['Clase 0'],['Clase_1'],['Clase_2']]\n",
        "enc.fit(X)\n",
        "\n",
        "enc.transform([['Clase_3']]).toarray()"
      ]
    },
    {
      "cell_type": "code",
      "execution_count": null,
      "metadata": {
        "id": "RI6zJqPmtJo9"
      },
      "outputs": [],
      "source": [
        "enc = preprocessing.OneHotEncoder(handle_unknown='ignore') \n",
        "# handle_unknown, lo que hace es que cuando hay algo que no conoce lo ignora. Esto es importante\n",
        "# si sospechamos que vamos a añadir datos con cosas que no hemos tenido en cuenta. Por otro \n",
        "# lado esto también es una desventaja porque al ignorar datos sin decir nada, es peligroso.\n",
        "X = [['Clase 0'],['Clase_1'],['Clase_2']]\n",
        "enc.fit(X)\n",
        "\n",
        "enc.transform([['Clase_3']]).toarray()"
      ]
    },
    {
      "cell_type": "markdown",
      "metadata": {
        "id": "M3AGLOch5M5a"
      },
      "source": [
        "### Discretización de los datos\n",
        "\n",
        "Si los datos son continuos o discretos pero los queremos convertir a categorias podemos discretizar. El proceso es similar al de la generación de histograma donde cada datos se le hace corresponder un bin, en este caso una clase."
      ]
    },
    {
      "cell_type": "code",
      "execution_count": null,
      "metadata": {
        "id": "9WiPSunp5PhI",
        "outputId": "79f760e7-fd8e-4fdf-97d5-d5f344ba421c"
      },
      "outputs": [
        {
          "data": {
            "text/plain": [
              "KBinsDiscretizer(encode='ordinal', n_bins=[3, 2, 2], strategy='quantile')"
            ]
          },
          "execution_count": 81,
          "metadata": {},
          "output_type": "execute_result"
        }
      ],
      "source": [
        "# TENEMOS UNA VARIABLE CONTINUA Y LA PASAMOS A DISCRETA \n",
        "X = np.array([[ -3., 5., 15 ],\n",
        "               [  0., 6., 14 ],\n",
        "               [  6., 3., 11 ]])\n",
        "\n",
        "est = preprocessing.KBinsDiscretizer(n_bins=[3, 2, 2], encode='ordinal').fit(X) # KBinsDiscretizer crea un histograma."
      ]
    },
    {
      "cell_type": "code",
      "execution_count": null,
      "metadata": {
        "colab": {
          "base_uri": "https://localhost:8080/",
          "height": 70
        },
        "id": "3AMwBv6U50I9",
        "outputId": "a35faec3-5ebd-4d44-f607-f8770eed1ce7"
      },
      "outputs": [
        {
          "data": {
            "text/plain": [
              "array([[0., 1., 1.],\n",
              "       [1., 1., 1.],\n",
              "       [2., 0., 0.]])"
            ]
          },
          "execution_count": 80,
          "metadata": {},
          "output_type": "execute_result"
        }
      ],
      "source": [
        "est.transform(X) # Aplicamos codificación"
      ]
    },
    {
      "cell_type": "markdown",
      "metadata": {
        "id": "n2y3wVWl59LY"
      },
      "source": [
        "#### Ejercicio 10: \n",
        "Discretiza los datos de entrada de IRIS (los de arriba del todo) para que la primera variable tenga 2 categorias, la segunda 4 categorias, la tercera 10 categorias y la cuarta 5 categorias. Hazlo usando particiones de train y test y entrenando el discretizador con train y aplicandolo a train y a test. "
      ]
    },
    {
      "cell_type": "code",
      "execution_count": null,
      "metadata": {
        "id": "Da_wvTQt536t",
        "outputId": "bde6bf4c-4158-4d8c-83dc-915b34282026"
      },
      "outputs": [
        {
          "data": {
            "image/png": "[encoded data removed]",
            "text/plain": [
              "<Figure size 864x504 with 6 Axes>"
            ]
          },
          "metadata": {
            "needs_background": "light"
          },
          "output_type": "display_data"
        }
      ],
      "source": [
        "from sklearn.model_selection import train_test_split\n",
        "\n",
        "X, Y = iris.data, iris.target\n",
        "X_train, X_test, y_train, y_test = train_test_split(X, Y, test_size = 1/3, random_state=234) \n",
        "\n",
        "est = preprocessing.KBinsDiscretizer(n_bins=[2, 4, 10, 5] # categorías \n",
        "                                     , encode='ordinal').fit(X_train)\n",
        "X_ttrain = est.transform(X_train)\n",
        "X_ttest = est.transform(X_test)\n",
        "\n",
        "plt.figure(figsize=(12,7))\n",
        "plt.subplot(3,2,1), plt.hist(X_ttrain,21), plt.title('X_ttrain, bins= 21');\n",
        "plt.subplot(3,2,2), plt.hist(X_ttest,21), plt.title('X_ttest, bins= 21');\n",
        "\n",
        "# Cambiamos el númeor de bins para ver mejor\n",
        "plt.subplot(3,2,3), plt.hist(X_ttrain,10), plt.title('X_ttrain, bins= 10');\n",
        "plt.subplot(3,2,4), plt.hist(X_ttest,10), plt.title('X_ttest, bins= 10');\n",
        "\n",
        "plt.subplot(3,2,5), plt.hist(X_ttrain,30), plt.title('X_ttrain, bins= 30');\n",
        "plt.subplot(3,2,6), plt.hist(X_ttest,30), plt.title('X_ttest, bins= 30');\n",
        "\n",
        "# Podemos ver que no hay variables intermedios."
      ]
    }
  ],
  "metadata": {
    "colab": {
      "collapsed_sections": [
        "Kcj8A0P0v7dh",
        "HO-j8e-Tv_sx",
        "hfrgWaTMwRtO",
        "qv98pKpsw2hS",
        "E-V7lzeCyEO9",
        "14grcLsczPMB",
        "em3YWQIY0m9P",
        "D7-tmWZw0zBK",
        "8Q2T9J9l_iVC",
        "Mwfm5BPt3nwq",
        "o7Do8DEb4NTZ",
        "rvz0edUO4zqh",
        "n2y3wVWl59LY"
      ],
      "provenance": []
    },
    "kernelspec": {
      "display_name": "Python 3",
      "language": "python",
      "name": "python3"
    },
    "language_info": {
      "codemirror_mode": {
        "name": "ipython",
        "version": 3
      },
      "file_extension": ".py",
      "mimetype": "text/x-python",
      "name": "python",
      "nbconvert_exporter": "python",
      "pygments_lexer": "ipython3",
      "version": "3.7.6"
    }
  },
  "nbformat": 4,
  "nbformat_minor": 0
}