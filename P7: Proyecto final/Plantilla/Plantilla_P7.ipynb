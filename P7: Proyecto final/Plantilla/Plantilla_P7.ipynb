{
  "cells": [
    {
      "cell_type": "markdown",
      "source": [
        "# **PRÁCTICA 7:  Machine Learning - Proyecto final**\n",
        "### Universitat de València, Escola Tecnica Superior d'Enginyeria\n",
        "### Elena Marrero Castellano | 3ª curso del Grado Ciencia de Datos"
      ],
      "metadata": {
        "id": "FK9WNXCYsUWT"
      }
    },
    {
      "cell_type": "markdown",
      "source": [
        "Desarrolla un algoritmo que a partir de unos datos de entrada (X) prediga los valores de salida (Y). La nota no va a depender únicamente de los resultados obtenidos sino de el procedimiento utilizado. Esmérate en incluir comentarios que describan el procedimiento y la motivación de cada paso. Se valorará el uso de todos los conocimientos desarrollados durante las prácticas. Entre otros:\n",
        "\n",
        "- Métodos de preprocesado.\n",
        "- Métodos de selección de características.\n",
        "- Métodos de extracción de características.\n",
        "- Métodos de partición de datos durante el entrenamiento.\n",
        "- Métodos de clasificación/regresión, cuantos más se prueben mejor.\n",
        "\n",
        "Entregaréis:\n",
        "- Un fichero 'y_hat.cvs' con vuestra predicciones sobre los datos de test.\n",
        "- Un fichero '.ipynb' que contenga el procedimiento utilizado debidamente comentado."
      ],
      "metadata": {
        "id": "D6Sv554EB3qC"
      }
    },
    {
      "cell_type": "code",
      "execution_count": null,
      "metadata": {
        "id": "9N_C9oOBBM_z"
      },
      "outputs": [],
      "source": [
        "import numpy as np\n",
        "import pandas as pd\n",
        "import matplotlib.pyplot as plt\n",
        "from scipy.spatial.distance import pdist\n",
        "from scipy.stats import mode\n",
        "from sklearn.model_selection import train_test_split\n",
        "from sklearn.utils import resample\n",
        "from sklearn.preprocessing import MinMaxScaler, StandardScaler\n",
        "from sklearn.preprocessing import OneHotEncoder, QuantileTransformer, PowerTransformer\n",
        "from sklearn.decomposition import PCA\n",
        "from sklearn.model_selection import GridSearchCV, KFold\n",
        "from sklearn.svm import SVC, SVR\n",
        "from sklearn.tree import DecisionTreeClassifier, DecisionTreeRegressor\n",
        "from sklearn.ensemble import BaggingClassifier, BaggingRegressor\n",
        "from sklearn.ensemble import RandomForestClassifier, RandomForestRegressor\n",
        "import sklearn.metrics"
      ]
    },
    {
      "cell_type": "code",
      "execution_count": null,
      "metadata": {
        "id": "z_Z6TV-6BM_1"
      },
      "outputs": [],
      "source": [
        "# Read data and start to work\n",
        "df_train = pd.read_table('diabetes_train.data')\n",
        "df_test = pd.read_table('diabetes_test.data')"
      ]
    },
    {
      "cell_type": "code",
      "execution_count": null,
      "metadata": {
        "id": "TPBuAMVrBM_2",
        "outputId": "52b95057-8740-49e0-b260-3c104bb687b4"
      },
      "outputs": [
        {
          "name": "stdout",
          "output_type": "stream",
          "text": [
            "Index(['AGE', 'SEX', 'BMI', 'BP', 'S1', 'S2', 'S3', 'S4', 'S5', 'S6', 'Y',\n",
            "       'C'],\n",
            "      dtype='object')\n"
          ]
        }
      ],
      "source": [
        "# Nombres de las variables\n",
        "print(df_train.keys())\n",
        "data_train = df_train.to_numpy()\n",
        "ytrain, ytrain_class = data_train[:,-2], data_train[:,-1]\n",
        "Xtrain = data_train[:, :-2]\n",
        "# Test set\n",
        "Xtest = df_test.to_numpy()"
      ]
    }
  ],
  "metadata": {
    "kernelspec": {
      "display_name": "Python 3",
      "language": "python",
      "name": "python3"
    },
    "language_info": {
      "codemirror_mode": {
        "name": "ipython",
        "version": 3
      },
      "file_extension": ".py",
      "mimetype": "text/x-python",
      "name": "python",
      "nbconvert_exporter": "python",
      "pygments_lexer": "ipython3",
      "version": "3.6.12"
    },
    "colab": {
      "provenance": []
    }
  },
  "nbformat": 4,
  "nbformat_minor": 0
}