{
  "cells": [
    {
      "cell_type": "markdown",
      "source": [
        "# **PRÁCTICA 2:  Machine Learning - Parte 2: División del conjunto de datos**\n",
        "### Universitat de València, Escola Tecnica Superior d'Enginyeria\n",
        "### Elena Marrero Castellano | 3ª curso del Grado Ciencia de Datos"
      ],
      "metadata": {
        "id": "FK9WNXCYsUWT"
      }
    },
    {
      "cell_type": "code",
      "execution_count": null,
      "metadata": {
        "id": "qganC4Eq_pnl"
      },
      "outputs": [],
      "source": [
        "%load_ext autoreload\n",
        "%autoreload 2\n",
        "%matplotlib inline\n",
        "import numpy as np\n",
        "import matplotlib.pyplot as plt"
      ]
    },
    {
      "cell_type": "markdown",
      "metadata": {
        "id": "dF6MT31E_pnn"
      },
      "source": [
        "## 1.2 Hold-out\n"
      ]
    },
    {
      "cell_type": "markdown",
      "source": [
        "Consiste en dividir el conjunto de datos en dos, una para entrenar el modelo y otra para testearlo. También se recurre al *hold-out* en caso de que el modelo a utilizar tenga parámetros que ajustar. Para ello la partición de entrenamiento se divide a su vez en entrenamiento y validación. El conjunto de entrenamiento se usa para entrenar el modelo probando diferentes combinaciones de parámetros, y el conjunto de validación para comprobar el funcionamiento del modelo con dichas combinaciones. Al final se escoge el conjunto de parámetros que mejor resultados haya obtenido, y como paso final se reentrena el modelo utilizando todos el conjunto de entrenamiento. En la siguiente práctica usaremos los métodos vistos en estas para ajustar los parámetros de un modelo SVM.\n",
        "\n",
        "Es importante resaltar que en todo este proceso no se usa para nada el conjunto de test, cuya finalidad es **únicamente** comprobar el rendimiento del modelo final.\n",
        "\n",
        "En la práctica anterior vimos como scikit-learn nos ofrece una función para realizar este tipo de división del conjunto de datos, `train_test_split`. En esta práctica vamos a ver cómo podemos hacerlo \"a mano\"."
      ],
      "metadata": {
        "id": "eOlGQcg5A642"
      }
    },
    {
      "cell_type": "markdown",
      "metadata": {
        "id": "RFCc3NCQ_pnn"
      },
      "source": [
        "### Lo primero que necesitamos es un conjunto de datos para trabajar"
      ]
    },
    {
      "cell_type": "code",
      "execution_count": null,
      "metadata": {
        "id": "eZa5AM3P_pno"
      },
      "outputs": [],
      "source": [
        "# Vamos a trabajar con un problema de regresión inventado con 200 muestras, 10 dimensiones, de las cuales solo 8 son \n",
        "# informativas. Solamente tenemos que predecir una única variable.\n",
        "\n",
        "from sklearn.datasets import make_regression\n",
        "X, y = make_regression(n_samples=200, n_features=10, n_informative=8, n_targets=1,\n",
        "                       # Se ha añadido un poco de ruido para que el problema sea un poco más dificil de resolver. \n",
        "                       # Por último tenemos el parámetro  random_state que es para que todos obtengamos unos \n",
        "                       # resultados similares.\n",
        "                       noise=0.1, random_state=1234) \n"
      ]
    },
    {
      "cell_type": "markdown",
      "metadata": {
        "id": "NNf2xjM7_pnq"
      },
      "source": [
        "### Vamos a dividirlo usando una partición aleatoria. Usaremos  `np.random.permutation`."
      ]
    },
    {
      "cell_type": "code",
      "execution_count": null,
      "metadata": {
        "id": "udJQtP-d_pnq"
      },
      "outputs": [],
      "source": [
        "# Lo que vamos a ahcer va a ser realizar el hold out pero a mano.\n",
        "\n",
        "ptrain = 2/3  # % muestras entrenamiento\n",
        "N = X.shape[0]\n",
        "\n",
        "idx = np.random.permutation(N) # Hacemos una permutación de los n elementos\n",
        "\n",
        "ntrain = np.fix(N * ptrain).astype('int') # ntrain, es el númoer de muestras de entrenamiento \n",
        "\n",
        "# Con esto ya podemos definir el conjunto de entrenamiento\n",
        "Xtrain = X[idx[:ntrain], :]\n",
        "ytrain = y[idx[:ntrain]]"
      ]
    },
    {
      "cell_type": "markdown",
      "metadata": {
        "id": "1yhUP8bW_pnr"
      },
      "source": [
        "### Ejercicio: obtén los elementos del conjunto de test"
      ]
    },
    {
      "cell_type": "code",
      "execution_count": null,
      "metadata": {
        "id": "pcha_jI8_pnr"
      },
      "outputs": [],
      "source": [
        "Xtest = X[idx[ntrain:], :] \n",
        "ytest = y[idx[ntrain:]]"
      ]
    },
    {
      "cell_type": "markdown",
      "metadata": {
        "id": "Av3Tu-Q8_pns"
      },
      "source": [
        "### Necesitamos un modelo para nuestros experimentos. Usaremos un modelo sencillo de regresión lineal"
      ]
    },
    {
      "cell_type": "code",
      "execution_count": null,
      "metadata": {
        "id": "VWYnGx3Z_pns"
      },
      "outputs": [],
      "source": [
        "from sklearn.linear_model import LinearRegression\n",
        "lr = LinearRegression() "
      ]
    },
    {
      "cell_type": "markdown",
      "metadata": {
        "id": "NN1BxyoH_pns"
      },
      "source": [
        "### Primera prueba: vamos a entrenar y testear nuestro modelo usando solo el conjunto de entrenamiento"
      ]
    },
    {
      "cell_type": "code",
      "execution_count": null,
      "metadata": {
        "id": "F2mdTrGi_pns"
      },
      "outputs": [],
      "source": [
        "lr.fit(Xtrain, ytrain) \n",
        "# Por defecto `score` calcula el índice de correlación de Pearson al cuadrado\n",
        "R2 = lr.score(Xtrain, ytrain)"
      ]
    },
    {
      "cell_type": "markdown",
      "metadata": {
        "id": "_7TidEqk_pnt"
      },
      "source": [
        "El coeficiente de correlación al cuadrado, $R^2$, es una buena métrica, pero la mayoría de las veces queremos validar nuestro resultados usando varias (no nos fiamos de una sola, ¿por qué?)\n",
        "\n",
        "Métricas muy usadas son el root mean square error (RMSE) o el mean absolute error (MAE)\n",
        "- RMSE = $\\sqrt{\\frac{1}{N}\\sum_{i=0}^{N-1}(y_i-\\hat{y_i})^2}$\n",
        "- MAE =  $\\frac{1}{N}\\sum_{i=0}^{N-1}|y_i-\\hat{y_i}|$"
      ]
    },
    {
      "cell_type": "markdown",
      "metadata": {
        "id": "WDoeKltG_pnt"
      },
      "source": [
        "#### Respuesta a la pregunta: \n",
        "\n",
        "No nos fiamos de una sola métrica para decidir si un modelo es bueno o no lo es. Vamos a querer medirlo de varias maneras para poder tener otras opiniones ,porque una nos puede decir que es muy buena pero otra de las métricas me podría decir que no tanto. Cada métrica nos informa de diferentes aspectos. En este caso vamos a mirarlo también con RMSE que escoge los residuos del modelo, la diferencia entre los valores reales y los valores predichos al cuadrado, suma de todos (la media) y de todo eso su raiz cuadrada. También tenemos el MAE, donde realizamos la media de la diferencia de los residuos, es decir el valor predicho y el valor real."
      ]
    },
    {
      "cell_type": "code",
      "execution_count": null,
      "metadata": {
        "id": "k4LH7co1_pnt"
      },
      "outputs": [],
      "source": [
        "def rmse(y, yp):\n",
        "    return np.sqrt(np.sum((y-yp)**2) / y.shape[0])"
      ]
    },
    {
      "cell_type": "markdown",
      "metadata": {
        "id": "5q5JDmPy_pnt"
      },
      "source": [
        "### Ejercicio: crea una función para calcular el MAE"
      ]
    },
    {
      "cell_type": "code",
      "execution_count": null,
      "metadata": {
        "id": "m7YfuBZX_pnu"
      },
      "outputs": [],
      "source": [
        "def mae(y, yp):\n",
        "    return np.sum(np.abs((y-yp)) / y.shape[0])"
      ]
    },
    {
      "cell_type": "markdown",
      "metadata": {
        "id": "wGEEB-LF_pnu"
      },
      "source": [
        "### Por supuesto, scikit-learn tiene unas cuantas de estas funciones implementadas ...\n",
        "`from sklearn.metrics import mean_squared_error, mean_absolute_error`"
      ]
    },
    {
      "cell_type": "markdown",
      "metadata": {
        "id": "maMg8p2h_pnu"
      },
      "source": [
        "### Veamos resultados"
      ]
    },
    {
      "cell_type": "code",
      "execution_count": null,
      "metadata": {
        "tags": [],
        "id": "z9vxqw0K_pnv",
        "outputId": "53b0821c-2fcf-4749-fc08-3418b95337a1"
      },
      "outputs": [
        {
          "name": "stdout",
          "output_type": "stream",
          "text": [
            "R2 0.99999972766987 RMSE 0.09079064223763982 MAE 0.07166796708724088\n"
          ]
        }
      ],
      "source": [
        "yp = lr.predict(Xtrain) # Predecimos utilizando el conjunto de entrenamiento\n",
        "print('R2', R2, 'RMSE', rmse(ytrain, yp), 'MAE', mae(ytrain, yp))"
      ]
    },
    {
      "cell_type": "markdown",
      "metadata": {
        "id": "cJtbPOkf_pnw"
      },
      "source": [
        "#### NOTA RESULTADOS:\n",
        "\n",
        "R2, es súper buena, muy cercana a la unidad.   \n",
        "RMSE, es muy bajo, que a diferencia del R2 cuanto más bajo mejor.   \n",
        "MAE, nos ha dado también un valore pequeño y esto es bueno.   "
      ]
    },
    {
      "cell_type": "markdown",
      "metadata": {
        "id": "nZJ2ewxg_pnw"
      },
      "source": [
        "### Fíjate en dos cosas:\n",
        "1. Cada métrica informa de la \"bondad\" del modelo atendiendo a características diferentes. ¿De qué nos informa cada una de estas métricas?\n",
        "2. Toma nota de estos valores para compararlos con los que obtengamos después.\n",
        "\n",
        "El obtener resultados usando un mismo conjunto para todo (entrenamiento y test) nos puede dar (y seguramente lo hará) una versión poco realista del rendimiento del modelo. Otro riesgo adicional es que el modelo puede \"sobreenternarse\", aprendiéndose los datos de entrenamiento \"de memoria\" pero siendo incapaz de predecir correctamente sobre datos que no haya \"visto\" previamente. A este fenómeno se le conoce como *overfitting* y hay que tratar de evitarlo al entrenar nuestros modelos.\n",
        "\n",
        "¿Qué pasará cuando usemos nuestro modelo sobre nuevos datos? ¿Seguirá funcionando igual?\n",
        "\n"
      ]
    },
    {
      "cell_type": "markdown",
      "source": [
        "### Comprobémoslo!!\n",
        "### Ejercicio: comprueba nuestro modelo sobre el conjunto de test"
      ],
      "metadata": {
        "id": "t1XbOsoEBQnq"
      }
    },
    {
      "cell_type": "code",
      "execution_count": null,
      "metadata": {
        "tags": [],
        "id": "I-MLWE--_pnw",
        "outputId": "c761f20d-6bc5-4d2b-da21-324b432d9581"
      },
      "outputs": [
        {
          "name": "stdout",
          "output_type": "stream",
          "text": [
            "R2 0.9999997226645811 RMSE 0.09826369966869719 MAE 0.08001842028122112\n"
          ]
        }
      ],
      "source": [
        "R2 = lr.score(Xtest, ytest)\n",
        "yt = lr.predict(Xtest)\n",
        "print(\"R2\", R2, \"RMSE\", rmse(ytest, yt), \"MAE\" , mae(ytest, yt))"
      ]
    },
    {
      "cell_type": "markdown",
      "metadata": {
        "id": "4G_iSJes_pnx"
      },
      "source": [
        "### ¿Qué resultados se han obtenido? Compáralos con los obtenidos antes y comenta los resultados.\n"
      ]
    },
    {
      "cell_type": "markdown",
      "source": [
        "\n",
        "Lo que podemos ver es que aunque sea ligereamente, nos da un poco más de error cuando uilizamos los datos de test que cuando utilizamos los datos de entrenamiento. \n",
        "\n",
        "Que no sean mucho más alto, es una buena señal. En cuanto al modelo, podemos empezar a pensar que sigue siendo bueno ya que cuando lo utilizamos en datos que el no a visto nunca en entrenamiento, sigue funcionando correctamente."
      ],
      "metadata": {
        "id": "pD3g9cdiBUKZ"
      }
    },
    {
      "cell_type": "markdown",
      "metadata": {
        "id": "y49k4lHP_pnx"
      },
      "source": [
        "## 1.3 k-fold\n"
      ]
    },
    {
      "cell_type": "markdown",
      "source": [
        "Una pega del método *hold-out* es que al particionar aleatoriamente el conjunto de datos podría darse el caso que justamente esta partición fuera especialmente idónea a la hora de entrenar y testear, dándonos resultados aparentemente demasiado buenos.\n",
        "\n",
        "Una opción para evitar esta duda es particionar el conjunto varias veces e ir probando diferentes combinaciones de conjuntos de entrenamiento y test. Si esto lo hacemos de manera sistemática tenemos el k-fold (o v-fold), ilustrado en la figura.\n",
        "\n",
        "<img alt=\"k-fold\" src=\"kfold.png\" width=\"500px\">"
      ],
      "metadata": {
        "id": "vOjGb9d_Bdml"
      }
    },
    {
      "cell_type": "markdown",
      "metadata": {
        "id": "ojxMlKl3_pnx"
      },
      "source": [
        "### En esta ocasión vamos a utilizar las funciones de scikit-learn para realizar las particiones\n",
        "### Ejercicio: completa el código mostrado abajo para entrenar y testear con *k-fold*"
      ]
    },
    {
      "cell_type": "code",
      "execution_count": null,
      "metadata": {
        "tags": [],
        "id": "5Uq08mqK_pnx",
        "outputId": "2e3af217-35eb-4324-894a-fb44f5810a4d"
      },
      "outputs": [
        {
          "name": "stdout",
          "output_type": "stream",
          "text": [
            "CPU times: user 28.5 ms, sys: 2.56 ms, total: 31 ms\n",
            "Wall time: 8.57 ms\n"
          ]
        }
      ],
      "source": [
        "%%time\n",
        "# Usamos KFold de scikit-learn\n",
        "from sklearn.model_selection import KFold\n",
        "\n",
        "nf = 5  # number of folds\n",
        "kf_r2, kf_rmse, kf_mae = [], [], []  # Listas para ir almacenando los resultados\n",
        "kf = KFold(n_splits=nf, shuffle=True, random_state=1234)\n",
        "for train, test in kf.split(X):  # pregunta: daría igual poner kf.split(X,y)?\n",
        "    Xtrain, ytrain = X[train, :], y[train]\n",
        "    \n",
        "    # Completa -----------------------\n",
        "    # 1. Obtén los datos de test\n",
        "    Xtest, ytest = X[test, :], y[test]\n",
        "    # 2. Entrena el modelo (fit) con el conjunto de entrenamiento\n",
        "    lr.fit(Xtrain, ytrain)    \n",
        "    # 3. Predice sobre los datos de test\n",
        "    yt = lr.predict(Xtest)\n",
        "    # 4. Calcula las métricas r2, rmse y mae\n",
        "    R2 = lr.score(Xtest, ytest)\n",
        "    RMSE = rmse(ytest, yt)\n",
        "    MAE = mae(ytest, yt)\n",
        "    # 5. Añádelas a las listas kf_r2, kf_rmse y kf_mae\n",
        "    kf_r2.append(R2)\n",
        "    kf_rmse.append(RMSE)\n",
        "    kf_mae.append(MAE)"
      ]
    },
    {
      "cell_type": "code",
      "execution_count": null,
      "metadata": {
        "tags": [],
        "id": "E35UBEHu_pny",
        "outputId": "7fdc95b6-3296-45f0-ccd6-9484714969c9"
      },
      "outputs": [
        {
          "name": "stdout",
          "output_type": "stream",
          "text": [
            "R2 [0.9999998085566812, 0.9999997416959893, 0.999999613973702, 0.9999996089950625, 0.9999996272417969]\n",
            "RMSE [0.09014819952579126, 0.08707116242950337, 0.09633149415494903, 0.09592621434044604, 0.11608411054503705]\n",
            "MAE [0.07685701638026765, 0.07043667214656232, 0.07919283352562063, 0.07202383449365853, 0.09138905979105949]\n"
          ]
        }
      ],
      "source": [
        "# Veamos resultados\n",
        "print('R2', kf_r2)\n",
        "print('RMSE', kf_rmse)\n",
        "print('MAE', kf_mae)\n",
        "\n",
        "# Muestra directamnte las 5 resultados independientes. Lo que se suele hacer es sacar la media de todo este y es lo \n",
        "# que te quedas coo error de predicción del modelo cuando se enfrente a datos que nunca ha visto. "
      ]
    },
    {
      "cell_type": "markdown",
      "metadata": {
        "id": "Nuluthag_pn1"
      },
      "source": [
        "### ¿Se obtienen valores de las métricas parecidas para cada conjunto *k-fold*?"
      ]
    },
    {
      "cell_type": "markdown",
      "metadata": {
        "id": "beainldz_pn1"
      },
      "source": [
        "Como podemos observar arriba en el caso de R2 obtenemos valores bastante similares en cada uno de los resultados, mientras que en RMSE y MAE estos valores difieren un poco más entre ellos, en algún que otro resultado, pero igualemente siguen sieno similares."
      ]
    },
    {
      "cell_type": "markdown",
      "metadata": {
        "id": "0COF7KXL_pn1"
      },
      "source": [
        "### Ejercicio: obtén los valores promedio de las métricas calculadas\n",
        "Compara los resultados con los obtenidos mediante *hold-out*"
      ]
    },
    {
      "cell_type": "code",
      "execution_count": null,
      "metadata": {
        "tags": [],
        "id": "PEV0XVn1_pn1",
        "outputId": "4159b89c-8f20-4daa-a3ad-56977558b3d9"
      },
      "outputs": [
        {
          "name": "stdout",
          "output_type": "stream",
          "text": [
            "R2_PROM:  0.9999996800926464 RMSE_PROM:  0.09711223619914534 MAE_PROM:  0.07797988326743373\n",
            "R2        0.9999996272417969 RMSE        0.08671437954059523 MAE        0.06879133446338842\n"
          ]
        }
      ],
      "source": [
        "print(\"R2_PROM: \", sum(kf_r2)/5, \"RMSE_PROM: \", sum(kf_rmse)/5, \"MAE_PROM: \", sum(kf_mae)/5)\n",
        "\n",
        "\n",
        "yp = lr.predict(Xtrain) # Predecimos utilizando el conjunto de entrenamiento\n",
        "print('R2       ', R2, 'RMSE       ', rmse(ytrain, yp), 'MAE       ', mae(ytrain, yp))"
      ]
    },
    {
      "cell_type": "markdown",
      "metadata": {
        "id": "JdBjFzNv_pn2"
      },
      "source": [
        "Como podemos ver arriba, los valores se diferencian por muy poco, el R2 tiene una diferencia de 0.0000000528508495, el RMSE por 0.01039785665855011 y por último el MAE con una diferencia de 0.00918854880404531."
      ]
    },
    {
      "cell_type": "markdown",
      "metadata": {
        "id": "FRYunF74_pn2"
      },
      "source": [
        "## 1.4 leave-one-out\n"
      ]
    },
    {
      "cell_type": "markdown",
      "source": [
        "El leave-one-out es la versión extrema del k-fold con k = N muestras. Este es el test más exhaustivo de todos los vistos, y el que teóricamente mejor podría predecir el \"verdadero\" error de predicción de un modelo. Dado su potencialmente alto coste computacional (hay que entrenar N modelos con N-1 muestras)\n",
        "se usa solo cuando tenemos pocos datos.\n",
        "\n",
        "### Ejercicio: usa *leave-one-out* con nuestro conjunto de datos y modelo. Compara ...\n",
        "1. Resultados.\n",
        "2. Tiempo de cálculo"
      ],
      "metadata": {
        "id": "p9jkpNjoBjgD"
      }
    },
    {
      "cell_type": "code",
      "execution_count": null,
      "metadata": {
        "tags": [],
        "id": "6giZNWnc_pn2",
        "outputId": "62f077f9-40af-47cc-9cd8-c1f858901541"
      },
      "outputs": [
        {
          "name": "stdout",
          "output_type": "stream",
          "text": [
            "CPU times: user 328 ms, sys: 4.01 ms, total: 332 ms\n",
            "Wall time: 84.1 ms\n"
          ]
        }
      ],
      "source": [
        "%%time\n",
        "# Pasar usar leave-one-out basta con usar KFold con N muestras.\n",
        "# No obstante, scikit-learn provee the una clase LeaveOnOut directamente.\n",
        "# Importante\n",
        "from sklearn.model_selection import LeaveOneOut\n",
        "loo = LeaveOneOut()\n",
        "\n",
        "# Preguta: para este experimento no usaremos el R2, ¿por qué?\n",
        "loo_rmse, loo_mae = [], []\n",
        "for train, test in loo.split(X):\n",
        "    Xtrain, ytrain = X[train, :], y[train]\n",
        "    # Completa ------------------------\n",
        "    # 1. Obtén los datos de test\n",
        "    Xtest, ytest = X[test, :], y[test]\n",
        "    # 2. Entrena el modelo (fit) con el conjunto de entrenamiento\n",
        "    lr.fit(Xtrain, ytrain)    \n",
        "    # 3. Predice sobre los datos de test\n",
        "    yt = lr.predict(Xtest)\n",
        "    # 4. Calcula las métricas r2, rmse y mae\n",
        "    RMSE = rmse(ytest, yt)\n",
        "    MAE = mae(ytest, yt)\n",
        "    # 5. Añádelas a las listas \n",
        "    loo_rmse.append(RMSE)\n",
        "    loo_mae.append(MAE)\n",
        "    \n",
        "# Comparamos resultados \n",
        "# print('RMSE', loo_rmse)\n",
        "# print('MAE', loo_mae)"
      ]
    },
    {
      "cell_type": "markdown",
      "metadata": {
        "id": "HHzcm6he_pn3"
      },
      "source": [
        "### Comparamos tiempo de cálculo "
      ]
    },
    {
      "cell_type": "markdown",
      "metadata": {
        "id": "mBy1hYny_pn3"
      },
      "source": [
        "**k-fold:**   \n",
        "CPU times: user 28.5 ms, sys: 2.56 ms, total: 31 ms   \n",
        "Wall time: 8.57 ms   \n",
        "**leave-one-out:**   \n",
        "CPU times: user 408 ms, sys: 6.61 ms, total: 415 ms   \n",
        "Wall time: 106 ms   \n",
        "\n",
        "Podemos ver que con resspecto a los tiempos de cálculo el k-fold se realiza con más rapidez que el leave-one-out con una gran diferencia."
      ]
    },
    {
      "cell_type": "markdown",
      "metadata": {
        "id": "AaxgN2yR_pn3"
      },
      "source": [
        "### Ejercicio: muestra gráficamente los resultados\n",
        "Como tenemos muchos resultados es más práctico mostrar los resultados mediante gráficas"
      ]
    },
    {
      "cell_type": "code",
      "execution_count": null,
      "metadata": {
        "tags": [],
        "id": "zRII4zUV_pn3",
        "outputId": "65964138-5d30-45b9-e9fb-0307a211cbe4"
      },
      "outputs": [
        {
          "data": {
            "image/png": "[encoded data removed]",
            "text/plain": [
              "<Figure size 864x432 with 2 Axes>"
            ]
          },
          "metadata": {
            "needs_background": "light"
          },
          "output_type": "display_data"
        }
      ],
      "source": [
        "# Muestra todos los resultados\n",
        "# print('RMSE', loo_rmse)\n",
        "# print('MAE', loo_mae)\n",
        "plt.figure(figsize=(12,6))\n",
        "plt.subplot(3,1,1), plt.plot(loo_rmse, 'b.', label='RMSE'), plt.grid(), plt.legend()\n",
        "plt.plot(np.mean(loo_rmse) * np.ones(len(loo_rmse)), 'r--')\n",
        "plt.subplot(3,1,2), plt.plot(loo_mae, 'k.', label='MAE'), plt.grid(), plt.legend()\n",
        "plt.plot(np.mean(loo_mae) * np.ones(len(loo_mae)), 'r--');"
      ]
    },
    {
      "cell_type": "code",
      "execution_count": null,
      "metadata": {
        "tags": [],
        "id": "ncL-vzON_pn4",
        "outputId": "af49c23d-c525-4b6d-d6c9-ef76ef15a446"
      },
      "outputs": [
        {
          "name": "stdout",
          "output_type": "stream",
          "text": [
            "RMSE 0.07797775741691128\n",
            "MAE 0.07797775741691128\n"
          ]
        }
      ],
      "source": [
        "# Muestra medias\n",
        "print('RMSE', np.mean(loo_rmse))\n",
        "print('MAE', np.mean(loo_mae))"
      ]
    },
    {
      "cell_type": "markdown",
      "metadata": {
        "id": "aQrZEBsm_pn4"
      },
      "source": [
        "### Pregunta: ¿por qué en este experimento el RMSE y el MAE salen iguales?\n",
        "RMSE y MAE salen iguales porque se ha aplicado sobre un único valor."
      ]
    },
    {
      "cell_type": "markdown",
      "metadata": {
        "id": "AFK7hngF_pn4"
      },
      "source": [
        "<img alt=\"No se vayan todavía, aún hay más!\"\n",
        "     src=\"no-se-vayan.png\">\n",
        "\n",
        "LeavePOut: es como KFold pero al revés, se escogen P muestras del conjunto de test.\n",
        "Ojo porque esto no es equivalente a hacer `KFold(n_splits=n_samples // p)`. LeavePOut prueba todas las posibles combinaciones posibles de P elementos para testear, dejando las restantes N-P muestras para entrenar. Esto tiene un muy alto coste computacional si la combinatoria de N elementos tomados en grupos de P es alta (y es fácil que lo sea).\n",
        "\n",
        "`from sklearn.model_selection import LeavePOut`\n",
        "\n",
        "SuffleSplit: parecido a KFold pero las particiones se generan de forma aleatoria\n",
        "\n",
        "`from sklearn.model_selection import ShuffleSplit`"
      ]
    }
  ],
  "metadata": {
    "kernelspec": {
      "display_name": "Python 3",
      "language": "python",
      "name": "python3"
    },
    "language_info": {
      "codemirror_mode": {
        "name": "ipython",
        "version": 3
      },
      "file_extension": ".py",
      "mimetype": "text/x-python",
      "name": "python",
      "nbconvert_exporter": "python",
      "pygments_lexer": "ipython3",
      "version": "3.7.6"
    },
    "colab": {
      "provenance": []
    }
  },
  "nbformat": 4,
  "nbformat_minor": 0
}